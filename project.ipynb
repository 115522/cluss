{
 "cells": [
  {
   "cell_type": "markdown",
   "metadata": {},
   "source": [
    "<h1 style=\"color:blue;\">  <B> Tweets Clustering</B>  $~~~~~~~~~~~~~~~~~~~~~~~~~~~~~~~~~~~~~~~~~~~~~~~~~~~~~~~~~~~~~~~~~~~~~~~~~~~~~$<B> BY INES REBHI</B>\n",
    " </h1>"
   ]
  },
  {
   "cell_type": "markdown",
   "metadata": {},
   "source": [
    "\n",
    "\n",
    "html1 = '<img src=\"images/giphy.gif\" width=\"400\" height=\"400\" align=\"center\"/>'\n",
    "\n"
   ]
  },
  {
   "cell_type": "markdown",
   "metadata": {},
   "source": [
    "<h3 style=\"color:blue;\"> <B>Introduction</B>\n",
    " </B> </h3>"
   ]
  },
  {
   "cell_type": "markdown",
   "metadata": {},
   "source": [
    "<B>Data redundancy is an important problem of Twitter. Twitter users are likely to generate similar tweets (e.g., using the Retweet function) about some popular topics/events.\n",
    "a result of a huge number of tweets which let  tweetos not interested to loss time about reading for the same topic many tweets     \n",
    "  So by clustering similar tweets together, we can generate a more concise and organized representation of the raw tweets, which will be very useful for busy Tweetos to read only one tweet per class  </B> </br>\n",
    "\n",
    "<B> Aim of our Project is to  </B>\n",
    "<li> <B>1/ gathering real time tweets  using a twitter API </B></li>\n",
    "<li><B> 2/ Preprocessing tweets </B> </li>\n",
    "<li><B> 3/Apply a NLP to text tweets</B> </li>\n",
    "<li><B> 4/ Modeling By using K-means as a ML algorithm of clustering </B></li>"
   ]
  },
  {
   "cell_type": "markdown",
   "metadata": {},
   "source": [
    "<h3 style=\"color:blue;\"> <B>Keywords </B></h3>"
   ]
  },
  {
   "cell_type": "markdown",
   "metadata": {},
   "source": [
    "<B>Text mining  $~~~/~~~~$clustering$~~~/~~~~$NLP $~~~/~~~~$tweepy$~~~/~~~~$ NLTK$~~~/~~~~$ twitter API </B>"
   ]
  },
  {
   "cell_type": "markdown",
   "metadata": {},
   "source": [
    "<h3 style=\"color:blue;\"> <B>STEP1: Getting API keys from Twitter</B>\n",
    " </B> </h3>"
   ]
  },
  {
   "cell_type": "markdown",
   "metadata": {},
   "source": [
    "<B>An API is standing for Application Programming Interfaces (APIs) and they allow you to access resources only available on the server</B></br>\n",
    "<B>Now The Twitter API lets you read and write Twitter data. Thus, you can use it to compose tweets, read profiles, and access your followers’ data and a high volume of tweets on particular subjects in specific locations.</B></br>\n",
    "<B>So how can I get an API from twitter developer ??? </B>"
   ]
  },
  {
   "cell_type": "markdown",
   "metadata": {},
   "source": [
    "\n",
    "<B style=\"color:orangered;\">1/ Create  twitter account </B>\n"
   ]
  },
  {
   "cell_type": "markdown",
   "metadata": {},
   "source": [
    "<img src=\"images/accounttwitter.PNG\">"
   ]
  },
  {
   "cell_type": "markdown",
   "metadata": {},
   "source": [
    "<B style=\"color:orangered;\">2/Try this link to see how apply for a twitter api </B> </br></br>\n",
    "\n",
    "<B>https://www.youtube.com/watch?v=vlvtqp44xoQ </B>"
   ]
  },
  {
   "cell_type": "markdown",
   "metadata": {},
   "source": [
    "<B style=\"color:orangered;\">3/ Create a project in twitter developer</B>"
   ]
  },
  {
   "cell_type": "markdown",
   "metadata": {},
   "source": [
    "<img src=\"images/Capture.PNG\">"
   ]
  },
  {
   "cell_type": "markdown",
   "metadata": {},
   "source": [
    "</br>"
   ]
  },
  {
   "cell_type": "markdown",
   "metadata": {},
   "source": [
    "<B style=\"color:orangered;\">3/Get API  Keys </B>"
   ]
  },
  {
   "cell_type": "markdown",
   "metadata": {},
   "source": [
    "<img src=\"images/api.PNG\">"
   ]
  },
  {
   "cell_type": "markdown",
   "metadata": {},
   "source": [
    "<B style=\"color:orangered;\"> 3/ Install Tweepy </B>"
   ]
  },
  {
   "cell_type": "markdown",
   "metadata": {},
   "source": [
    "<B>Tweepy is an open source Python package that gives you a very convenient way to access the Twitter API with Python. Tweepy includes a set of classes and methods that represent Twitter’s models and API endpoints, and it transparently handles various implementation details, such as:</B>\n",
    "\n",
    "<B>* Rate limits</B>\n",
    "    \n",
    "<B>* Streams</B>\n",
    "\n",
    "<B> * Data encoding and decoding</B>\n",
    "    \n",
    "<B> * HTTP requests</B>\n",
    "    \n",
    "<B>* Results pagination</B>\n",
    "    \n",
    "<B>* OAuth authentication</B>\n",
    "    \n"
   ]
  },
  {
   "cell_type": "markdown",
   "metadata": {},
   "source": [
    "<B style=\"color:orangered;\">4/ import Libraries  and credentials in our project </B> "
   ]
  },
  {
   "cell_type": "code",
   "execution_count": 15,
   "metadata": {},
   "outputs": [],
   "source": [
    "import tweepy           # To consume Twitter's API\n",
    "import pandas as pd     # To handle data\n",
    "import numpy as np      # For number computing\n",
    "\n",
    "# For plotting and visualization:\n",
    "from IPython.display import display\n",
    "import matplotlib.pyplot as plt\n",
    "import seaborn as sns\n",
    "%matplotlib inline\n",
    "\n",
    "\n",
    "# Twitter App access keys for @user \n",
    "#credential part\n",
    "\n",
    "# Consume:\n",
    "CONSUMER_KEY    = 'pUruES5UQBACkbkcOolgfmjop'\n",
    "CONSUMER_SECRET = 'H0zY8T19bQIAMGKxTNEVZV4T52QNMfruGu8FLbECmizbw7qr7l'\n",
    "\n",
    "# Access:\n",
    "ACCESS_TOKEN  = '1324988873538228224-Sbn1EJXcxKeItAV33UzO7wX7TsFYjA'\n",
    "ACCESS_SECRET = 'MMyMliA8oNgEYspY3mKQ4Wi73F4YsD9CiELkyChQpxebo'\n",
    "auth = tweepy.OAuthHandler(CONSUMER_KEY, CONSUMER_SECRET)\n",
    "auth.set_access_token(ACCESS_TOKEN,ACCESS_SECRET)\n",
    "api=  tweepy.API(auth)"
   ]
  },
  {
   "cell_type": "markdown",
   "metadata": {},
   "source": [
    "<h3><B style=\"color:blue;\">STEP2: Gathring DATA  </B> </h3>"
   ]
  },
  {
   "cell_type": "markdown",
   "metadata": {},
   "source": [
    "<B style=\"color:orangered;\">1/ Live streaming tweets\n",
    "  </B> "
   ]
  },
  {
   "cell_type": "markdown",
   "metadata": {},
   "source": [
    "<B>In this Part we need to stream 10 000 tweets in real-time  from\n",
    "Twitter to solve the task of tweets clustering </B> "
   ]
  },
  {
   "cell_type": "markdown",
   "metadata": {},
   "source": [
    "\n",
    "<div class=\"alert alert-block alert-danger\">\n",
    "<b>Danger:</b> <B>Please don't run this cell because it can make you a lot of time to do the streaming ! </B> \n",
    "</div>"
   ]
  },
  {
   "cell_type": "code",
   "execution_count": null,
   "metadata": {},
   "outputs": [],
   "source": [
    "from tweepy import Stream\n",
    "from tweepy import OAuthHandler\n",
    "from tweepy.streaming import StreamListener\n",
    "import time\n",
    " \n",
    "class listener(StreamListener):\n",
    "    def on_data(self,data):\n",
    "       \n",
    "            saveFile = open('live_tweets1.json','a')\n",
    "            saveFile.write(data)\n",
    "            saveFile.write('\\n')\n",
    "            saveFile.close()\n",
    "            return True\n",
    "       \n",
    "            time.sleep(5)\n",
    "    def on_status(self, status):\n",
    "        try:\n",
    "            if hasattr(status, 'retweeted_status') and hasattr(status.retweeted_status, 'extended_tweet'):\n",
    "                print('retweeted: ' + status.retweeted_status.extended_tweet['full_text'])\n",
    "            if hasattr(status, 'extended_tweet'):\n",
    "                print('extended_tweet: ' + status.extended_tweet['full_text'])\n",
    "            else:\n",
    "                print('text: ' + status.text)\n",
    "        except AttributeError:\n",
    "            print('attribute error: ' + status.text)\n",
    "auth = tweepy.OAuthHandler(CONSUMER_KEY, CONSUMER_SECRET)\n",
    "auth.set_access_token(ACCESS_TOKEN,ACCESS_SECRET)\n",
    "twitterStream = Stream(auth,listener(),tweet_mode='extended')\n",
    "\n",
    "twitterStream.filter(languages=[\"en\"],track=[\"politic\" , \"health\" , \"sport\",\"business\",\"entertaiment\"])"
   ]
  },
  {
   "cell_type": "markdown",
   "metadata": {},
   "source": [
    "<h3><B style=\"color:blue;\">STEP3:DATA PREPARATION </B> </h3>\n"
   ]
  },
  {
   "cell_type": "markdown",
   "metadata": {},
   "source": [
    "><h3><B style=\"color:orangered;\">Data Processing and Wrangling  </B> </h3>\n"
   ]
  },
  {
   "cell_type": "markdown",
   "metadata": {},
   "source": [
    ">><B style=\"color:green;\"> 1/ From json to csv </B> \n"
   ]
  },
  {
   "cell_type": "markdown",
   "metadata": {},
   "source": [
    "<B>the csv form  serve to make our dataset(tweets) more visualised than json form. So we need to change our dataset from json to csv </B>"
   ]
  },
  {
   "cell_type": "markdown",
   "metadata": {},
   "source": [
    "\n",
    "<div class=\"info info-block alert-info\">\n",
    "<b>INFO:</b> <B>It's unused to run these two cells </B> \n",
    "</div>"
   ]
  },
  {
   "cell_type": "code",
   "execution_count": 62,
   "metadata": {},
   "outputs": [],
   "source": [
    "import pandas as pd\n",
    "df = pd.read_json ('tweetsstreamed.json',lines = True)\n",
    "export_csv = df.to_csv ('bdtweets.csv', index = None, header=True)"
   ]
  },
  {
   "cell_type": "code",
   "execution_count": 56,
   "metadata": {},
   "outputs": [],
   "source": [
    "df = pd.read_json ('live_tweets.json',lines = True)\n",
    "export_csv = df.to_csv ('bdtweets2.csv', index = None, header=True)"
   ]
  },
  {
   "cell_type": "markdown",
   "metadata": {},
   "source": [
    ">><B style=\"color:green;\"> 2/Cleaning text </B> \n"
   ]
  },
  {
   "cell_type": "markdown",
   "metadata": {},
   "source": [
    ">><B>In this step we will \n",
    "<B><li>transform tweet text into lowercase</li></B>\n",
    "<B><li>remove twitter handles</li></B>\n",
    "<B><li>remove hyperlinks</li></B>\n",
    "    <B><li>remove non-alphanumeric characters such as punctuation marks </li></B>\n",
    "<B><li>remove whitespace</li></B>"
   ]
  },
  {
   "cell_type": "markdown",
   "metadata": {},
   "source": [
    "<B>a/keep only the text column and ignore the rest of features</B>"
   ]
  },
  {
   "cell_type": "code",
   "execution_count": 5,
   "metadata": {},
   "outputs": [
    {
     "name": "stdout",
     "output_type": "stream",
     "text": [
      "shape of tweets dataframe with duplicated tweets (20422, 1)\n"
     ]
    },
    {
     "data": {
      "text/html": [
       "<div>\n",
       "<style scoped>\n",
       "    .dataframe tbody tr th:only-of-type {\n",
       "        vertical-align: middle;\n",
       "    }\n",
       "\n",
       "    .dataframe tbody tr th {\n",
       "        vertical-align: top;\n",
       "    }\n",
       "\n",
       "    .dataframe thead th {\n",
       "        text-align: right;\n",
       "    }\n",
       "</style>\n",
       "<table border=\"1\" class=\"dataframe\">\n",
       "  <thead>\n",
       "    <tr style=\"text-align: right;\">\n",
       "      <th></th>\n",
       "      <th>text</th>\n",
       "    </tr>\n",
       "  </thead>\n",
       "  <tbody>\n",
       "    <tr>\n",
       "      <th>0</th>\n",
       "      <td>@WTAJnews Great!  Another going out of busines...</td>\n",
       "    </tr>\n",
       "    <tr>\n",
       "      <th>1</th>\n",
       "      <td>@DailyCaller @LisaMarieBoothe Health and educa...</td>\n",
       "    </tr>\n",
       "    <tr>\n",
       "      <th>2</th>\n",
       "      <td>RT @MatthewJshow: @realDonaldTrump China is we...</td>\n",
       "    </tr>\n",
       "    <tr>\n",
       "      <th>3</th>\n",
       "      <td>Video: Demba Ba sees red as he stands up for h...</td>\n",
       "    </tr>\n",
       "    <tr>\n",
       "      <th>4</th>\n",
       "      <td>RT @texman71: Fuck your restrictions!!</td>\n",
       "    </tr>\n",
       "  </tbody>\n",
       "</table>\n",
       "</div>"
      ],
      "text/plain": [
       "                                                text\n",
       "0  @WTAJnews Great!  Another going out of busines...\n",
       "1  @DailyCaller @LisaMarieBoothe Health and educa...\n",
       "2  RT @MatthewJshow: @realDonaldTrump China is we...\n",
       "3  Video: Demba Ba sees red as he stands up for h...\n",
       "4             RT @texman71: Fuck your restrictions!!"
      ]
     },
     "execution_count": 5,
     "metadata": {},
     "output_type": "execute_result"
    }
   ],
   "source": [
    "import pandas as pd \n",
    "tweets = pd.read_csv(\"bdtweets2.csv\", usecols = ['text'])\n",
    "print(\"shape of tweets dataframe with duplicated tweets\",tweets.shape)\n",
    "tweets.head()\n"
   ]
  },
  {
   "cell_type": "code",
   "execution_count": 7,
   "metadata": {},
   "outputs": [
    {
     "data": {
      "text/html": [
       "<div>\n",
       "<style scoped>\n",
       "    .dataframe tbody tr th:only-of-type {\n",
       "        vertical-align: middle;\n",
       "    }\n",
       "\n",
       "    .dataframe tbody tr th {\n",
       "        vertical-align: top;\n",
       "    }\n",
       "\n",
       "    .dataframe thead th {\n",
       "        text-align: right;\n",
       "    }\n",
       "</style>\n",
       "<table border=\"1\" class=\"dataframe\">\n",
       "  <thead>\n",
       "    <tr style=\"text-align: right;\">\n",
       "      <th></th>\n",
       "      <th>text</th>\n",
       "    </tr>\n",
       "  </thead>\n",
       "  <tbody>\n",
       "    <tr>\n",
       "      <th>20417</th>\n",
       "      <td>TAKE ACTION AND OPPOSE RUSHED APPROVALS WITHOU...</td>\n",
       "    </tr>\n",
       "    <tr>\n",
       "      <th>20418</th>\n",
       "      <td>Revive your aging skin and reduce the appearan...</td>\n",
       "    </tr>\n",
       "    <tr>\n",
       "      <th>20419</th>\n",
       "      <td>Busy 🐝!!!! \\n\\nWhen you own a business this is...</td>\n",
       "    </tr>\n",
       "    <tr>\n",
       "      <th>20420</th>\n",
       "      <td>RT @JeaneF1MSP: Dear @BBCScotNine, unpaid care...</td>\n",
       "    </tr>\n",
       "    <tr>\n",
       "      <th>20421</th>\n",
       "      <td>RT @hycfreedom: @HBO @HackedOffHugh HUNTER BID...</td>\n",
       "    </tr>\n",
       "  </tbody>\n",
       "</table>\n",
       "</div>"
      ],
      "text/plain": [
       "                                                    text\n",
       "20417  TAKE ACTION AND OPPOSE RUSHED APPROVALS WITHOU...\n",
       "20418  Revive your aging skin and reduce the appearan...\n",
       "20419  Busy 🐝!!!! \\n\\nWhen you own a business this is...\n",
       "20420  RT @JeaneF1MSP: Dear @BBCScotNine, unpaid care...\n",
       "20421  RT @hycfreedom: @HBO @HackedOffHugh HUNTER BID..."
      ]
     },
     "execution_count": 7,
     "metadata": {},
     "output_type": "execute_result"
    }
   ],
   "source": [
    "tweets.tail()\n"
   ]
  },
  {
   "cell_type": "code",
   "execution_count": 8,
   "metadata": {},
   "outputs": [
    {
     "data": {
      "text/plain": [
       "RT @SenTomCotton: This opinion reads like the delusional ramblings of a Resistance lawyer afflicted with Trump Derangement Syndrome. Judge…         186\n",
       "RT @btsportfootball: Nothing but respect ❤️\\n\\nMessi 🤝 Ronaldo\\n\\n📺 BT Sport ESPN HD https://t.co/Qo1KUQKZ7Q                                        171\n",
       "RT @SteveGuest: Joe Biden defeated AGAIN by the Teleprompter.\\n\\n\"For Secretary of Health and Education Services, I nominate Xavier Bacheria.…      153\n",
       "RT @MelissaReddy_: Demba Ba 👏🏽\\nIstanbul Basaksehir 👏🏽\\nPSG 👏🏽\\n\\nShowing us 'zero tolerance' is more than just empty words, can be easily acti…    137\n",
       "RT @SchmittNYC: Biden didn’t nominate Becerra - his handlers did                                                                                    120\n",
       "                                                                                                                                                   ... \n",
       "RT @nickchodgson: Another great interview by @HelenDon_RCN on nursing staff’s leading role in the #COVID19Vaccine rollout and astute questi…          1\n",
       "Mental health is a topic many people try to dance around, however we really need to focus more on changing how we v… https://t.co/XBh1lfsesu          1\n",
       "@realDonaldTrump You’re an embarrassment. And should be seeking mental health help.                                                                   1\n",
       "All my patriot friends I need help. My mother inlaw's family's business burned down and they desperately need help.… https://t.co/SYakxABtIJ          1\n",
       "@NaijaPledgeEnt @Irunnia_ Can you mind your business and stop watching the game from behind the tv?                                                   1\n",
       "Name: text, Length: 13937, dtype: int64"
      ]
     },
     "execution_count": 8,
     "metadata": {},
     "output_type": "execute_result"
    }
   ],
   "source": [
    "tweets['text'].value_counts()\n"
   ]
  },
  {
   "cell_type": "markdown",
   "metadata": {},
   "source": [
    "><B>we are looking in our dataset and  note that we have many duplications that we must removing</B>"
   ]
  },
  {
   "cell_type": "markdown",
   "metadata": {},
   "source": [
    "<B>b/Remove duplicated tweets </B>"
   ]
  },
  {
   "cell_type": "code",
   "execution_count": 9,
   "metadata": {},
   "outputs": [
    {
     "name": "stdout",
     "output_type": "stream",
     "text": [
      "shape of tweets dataframe After removing duplicated tweets (13937, 1)\n"
     ]
    }
   ],
   "source": [
    "\n",
    "tweets.drop_duplicates(subset='text',inplace=True)\n",
    "# tweets.drop_duplicates(subset=['text'], keep='first', inplace=True)  #tou can also run this line of code to drop duplicate tweets\n",
    "\n",
    "print(\"shape of tweets dataframe After removing duplicated tweets\",tweets.shape)\n"
   ]
  },
  {
   "cell_type": "markdown",
   "metadata": {},
   "source": [
    "><B> we can showing top of hashtag in our dataset </B>"
   ]
  },
  {
   "cell_type": "code",
   "execution_count": 11,
   "metadata": {},
   "outputs": [],
   "source": [
    "import re\n",
    "import numpy as np\n",
    "from collections import Counter\n",
    "\n",
    "tweets['hashtags'] = tweets['text'].apply(lambda twt : re.findall(r\"#(\\w+)\", twt))\n",
    "d = Counter(tweets.hashtags.sum())\n",
    "# print(d)"
   ]
  },
  {
   "cell_type": "code",
   "execution_count": 12,
   "metadata": {},
   "outputs": [
    {
     "data": {
      "text/plain": [
       "3602"
      ]
     },
     "execution_count": 12,
     "metadata": {},
     "output_type": "execute_result"
    }
   ],
   "source": [
    "tweets_hashtags = pd.DataFrame([d]).T\n",
    "tweets_hashtags.columns = ['freq']\n",
    "tweets_hashtags.freq.sum()"
   ]
  },
  {
   "cell_type": "code",
   "execution_count": 13,
   "metadata": {},
   "outputs": [
    {
     "name": "stdout",
     "output_type": "stream",
     "text": [
      "top hashtag in our dataset\n"
     ]
    },
    {
     "data": {
      "text/html": [
       "<div>\n",
       "<style scoped>\n",
       "    .dataframe tbody tr th:only-of-type {\n",
       "        vertical-align: middle;\n",
       "    }\n",
       "\n",
       "    .dataframe tbody tr th {\n",
       "        vertical-align: top;\n",
       "    }\n",
       "\n",
       "    .dataframe thead th {\n",
       "        text-align: right;\n",
       "    }\n",
       "</style>\n",
       "<table border=\"1\" class=\"dataframe\">\n",
       "  <thead>\n",
       "    <tr style=\"text-align: right;\">\n",
       "      <th></th>\n",
       "      <th>freq</th>\n",
       "    </tr>\n",
       "  </thead>\n",
       "  <tbody>\n",
       "    <tr>\n",
       "      <th>COVID19</th>\n",
       "      <td>103</td>\n",
       "    </tr>\n",
       "    <tr>\n",
       "      <th>business</th>\n",
       "      <td>81</td>\n",
       "    </tr>\n",
       "    <tr>\n",
       "      <th>health</th>\n",
       "      <td>42</td>\n",
       "    </tr>\n",
       "    <tr>\n",
       "      <th>assignment</th>\n",
       "      <td>38</td>\n",
       "    </tr>\n",
       "    <tr>\n",
       "      <th>homework</th>\n",
       "      <td>33</td>\n",
       "    </tr>\n",
       "    <tr>\n",
       "      <th>Nursing</th>\n",
       "      <td>31</td>\n",
       "    </tr>\n",
       "    <tr>\n",
       "      <th>research</th>\n",
       "      <td>31</td>\n",
       "    </tr>\n",
       "    <tr>\n",
       "      <th>Literature</th>\n",
       "      <td>29</td>\n",
       "    </tr>\n",
       "    <tr>\n",
       "      <th>Essay</th>\n",
       "      <td>28</td>\n",
       "    </tr>\n",
       "    <tr>\n",
       "      <th>chemistry</th>\n",
       "      <td>26</td>\n",
       "    </tr>\n",
       "  </tbody>\n",
       "</table>\n",
       "</div>"
      ],
      "text/plain": [
       "            freq\n",
       "COVID19      103\n",
       "business      81\n",
       "health        42\n",
       "assignment    38\n",
       "homework      33\n",
       "Nursing       31\n",
       "research      31\n",
       "Literature    29\n",
       "Essay         28\n",
       "chemistry     26"
      ]
     },
     "execution_count": 13,
     "metadata": {},
     "output_type": "execute_result"
    }
   ],
   "source": [
    "tweets_hashtags.sort_values(by=['freq'], ascending=False, inplace=True)\n",
    "print(\"top hashtag in our dataset\")\n",
    "tweets_hashtags.head(10)\n"
   ]
  },
  {
   "cell_type": "code",
   "execution_count": 16,
   "metadata": {},
   "outputs": [
    {
     "name": "stdout",
     "output_type": "stream",
     "text": [
      "Among 20000 Tweets, 3602 Hashtags were used.\n"
     ]
    },
    {
     "data": {
      "text/plain": [
       "Text(0.5, 1.0, 'Top 10 Hashtags of dataset')"
      ]
     },
     "execution_count": 16,
     "metadata": {},
     "output_type": "execute_result"
    },
    {
     "data": {
      "image/png": "[encoded data removed]",
      "text/plain": [
       "<Figure size 864x648 with 1 Axes>"
      ]
     },
     "metadata": {
      "needs_background": "light"
     },
     "output_type": "display_data"
    }
   ],
   "source": [
    "### Visualization of Top 10 Hashtags\n",
    "labels = tweets_hashtags.head(10).index.values.tolist()\n",
    "freq = tweets_hashtags['freq'].head(10).values.tolist()\n",
    "index = np.arange(len(freq))\n",
    "\n",
    "print(\"Among 20000 Tweets, 3602 Hashtags were used.\")\n",
    "plt.figure(figsize=(12,9))\n",
    "plt.bar(index, freq, alpha=0.8, color= 'orangered')\n",
    "plt.xlabel('Hashtags', fontsize=13)\n",
    "plt.ylabel('Frequency', fontsize=13)\n",
    "plt.xticks(index, labels, fontsize=11, rotation=90, fontweight=\"bold\") \n",
    "plt.title('Top 10 Hashtags of dataset', fontsize=12, fontweight=\"bold\",color='blue')"
   ]
  },
  {
   "cell_type": "code",
   "execution_count": 17,
   "metadata": {},
   "outputs": [],
   "source": [
    "tweets = tweets.drop(['hashtags'], axis=1)\n"
   ]
  },
  {
   "cell_type": "markdown",
   "metadata": {},
   "source": [
    " <B> c/extract the username through the tweets (preceded by @ or by RT @), emojis,punctuation</B></p> "
   ]
  },
  {
   "cell_type": "code",
   "execution_count": 22,
   "metadata": {},
   "outputs": [
    {
     "data": {
      "text/html": [
       "<div>\n",
       "<style scoped>\n",
       "    .dataframe tbody tr th:only-of-type {\n",
       "        vertical-align: middle;\n",
       "    }\n",
       "\n",
       "    .dataframe tbody tr th {\n",
       "        vertical-align: top;\n",
       "    }\n",
       "\n",
       "    .dataframe thead th {\n",
       "        text-align: right;\n",
       "    }\n",
       "</style>\n",
       "<table border=\"1\" class=\"dataframe\">\n",
       "  <thead>\n",
       "    <tr style=\"text-align: right;\">\n",
       "      <th></th>\n",
       "      <th>text</th>\n",
       "      <th>extended_tweet</th>\n",
       "    </tr>\n",
       "  </thead>\n",
       "  <tbody>\n",
       "    <tr>\n",
       "      <th>0</th>\n",
       "      <td>great  another going out of business sale</td>\n",
       "      <td>great  another going out of business sale</td>\n",
       "    </tr>\n",
       "    <tr>\n",
       "      <th>1</th>\n",
       "      <td>health and education services is what he wan...</td>\n",
       "      <td>health and education services is what he wan...</td>\n",
       "    </tr>\n",
       "    <tr>\n",
       "      <th>2</th>\n",
       "      <td>china is well entrenched throughout business...</td>\n",
       "      <td>china is well entrenched throughout business...</td>\n",
       "    </tr>\n",
       "    <tr>\n",
       "      <th>3</th>\n",
       "      <td>video demba ba sees red as he stands up for hi...</td>\n",
       "      <td>video demba ba sees red as he stands up for hi...</td>\n",
       "    </tr>\n",
       "    <tr>\n",
       "      <th>4</th>\n",
       "      <td>fuck your restrictions</td>\n",
       "      <td>fuck your restrictions</td>\n",
       "    </tr>\n",
       "    <tr>\n",
       "      <th>...</th>\n",
       "      <td>...</td>\n",
       "      <td>...</td>\n",
       "    </tr>\n",
       "    <tr>\n",
       "      <th>20416</th>\n",
       "      <td>we haveright to education and good health we w...</td>\n",
       "      <td>we haveright to education and good health we w...</td>\n",
       "    </tr>\n",
       "    <tr>\n",
       "      <th>20417</th>\n",
       "      <td>take action and oppose rushed approvals withou...</td>\n",
       "      <td>take action and oppose rushed approvals withou...</td>\n",
       "    </tr>\n",
       "    <tr>\n",
       "      <th>20418</th>\n",
       "      <td>revive your aging skin and reduce the appearan...</td>\n",
       "      <td>revive your aging skin and reduce the appearan...</td>\n",
       "    </tr>\n",
       "    <tr>\n",
       "      <th>20419</th>\n",
       "      <td>busy  when you ownbusiness this is really the ...</td>\n",
       "      <td>busy  when you ownbusiness this is really the ...</td>\n",
       "    </tr>\n",
       "    <tr>\n",
       "      <th>20421</th>\n",
       "      <td>hunter biden lied tony bobulinski  the form...</td>\n",
       "      <td>hunter biden lied tony bobulinski  the form...</td>\n",
       "    </tr>\n",
       "  </tbody>\n",
       "</table>\n",
       "<p>13937 rows × 2 columns</p>\n",
       "</div>"
      ],
      "text/plain": [
       "                                                    text  \\\n",
       "0              great  another going out of business sale   \n",
       "1        health and education services is what he wan...   \n",
       "2        china is well entrenched throughout business...   \n",
       "3      video demba ba sees red as he stands up for hi...   \n",
       "4                                 fuck your restrictions   \n",
       "...                                                  ...   \n",
       "20416  we haveright to education and good health we w...   \n",
       "20417  take action and oppose rushed approvals withou...   \n",
       "20418  revive your aging skin and reduce the appearan...   \n",
       "20419  busy  when you ownbusiness this is really the ...   \n",
       "20421     hunter biden lied tony bobulinski  the form...   \n",
       "\n",
       "                                          extended_tweet  \n",
       "0              great  another going out of business sale  \n",
       "1        health and education services is what he wan...  \n",
       "2        china is well entrenched throughout business...  \n",
       "3      video demba ba sees red as he stands up for hi...  \n",
       "4                                 fuck your restrictions  \n",
       "...                                                  ...  \n",
       "20416  we haveright to education and good health we w...  \n",
       "20417  take action and oppose rushed approvals withou...  \n",
       "20418  revive your aging skin and reduce the appearan...  \n",
       "20419  busy  when you ownbusiness this is really the ...  \n",
       "20421     hunter biden lied tony bobulinski  the form...  \n",
       "\n",
       "[13937 rows x 2 columns]"
      ]
     },
     "execution_count": 22,
     "metadata": {},
     "output_type": "execute_result"
    }
   ],
   "source": [
    "import re\n",
    "\n",
    "\n",
    "#clean text\n",
    "\n",
    "def CleanText(TextToClean):\n",
    "    TextToClean.lower()  #Normalization\n",
    "    TextToClean = re.sub(r'@[A-Za-z0-9]+', '',str(TextToClean)) #to extract @\n",
    "    TextToClean= re.sub(r':','',str(TextToClean)) #to remove :\n",
    "    TextToClean= re.sub(r'\\n','',str(TextToClean)) #to remove  \\n\n",
    "    TextToClean= re.sub(r'#','',str(TextToClean)) #to remove #\n",
    "    TextToClean= re.sub(r'!','',str(TextToClean)) #to remove #\n",
    "    TextToClean = re.sub(r'RT[\\s]','',str(TextToClean)) #to remove #\n",
    "    TextToClean = re.sub(r'https','',str(TextToClean)) #to remove hyper links\n",
    "    TextToClean = re.sub(r'_','',str(TextToClean)) #to remove hyper links\n",
    "    TextToClean = re.sub(r'~~~@…','',str(TextToClean)) #to remove blanc space\n",
    "    TextToClean =re.sub(r\"\\&\\S*\\s\", \"\", str(TextToClean))\n",
    "    TextToClean = re.sub(r\"\\&\", \"\", str(TextToClean))\n",
    "    TextToClean= re.sub(r\"\\+\", \"\", str(TextToClean))\n",
    "    TextToClean = re.sub(r\"\\#\", \"\", str(TextToClean))\n",
    "    TextToClean = re.sub(r\"\\$\", \"\", str(TextToClean))\n",
    "    TextToClean = re.sub(r\"\\£\", \"\", str(TextToClean))\n",
    "    TextToClean = re.sub(r\"\\%\", \"\", str(TextToClean))\n",
    "    TextToClean= re.sub(r\"\\:\", \"\", str(TextToClean))\n",
    "    TextToClean = re.sub(r\"\\@\", \"\", str(TextToClean))\n",
    "    TextToClean = re.sub(r\"\\-\", \"\", str(TextToClean))\n",
    "    TextToClean = re.sub(r\",\", \"\", str(TextToClean))\n",
    "    TextToClean = re.sub(r\" \\' \", \"\", str(TextToClean))\n",
    "    TextToClean = re.sub(r\"\\n \", \"\", str(TextToClean))\n",
    "    TextToClean = re.sub(r'\\s+[a-zA-Z]\\s+', \"\", str(TextToClean))\n",
    "    TextToClean = re.sub(r\" \\? \", \"\", str(TextToClean))\n",
    "    TextToClean = re.sub(r'[^\\w\\s]','',str(TextToClean))\n",
    "    \n",
    "#     TextToClean = re.sub(r'\\s+', \"\", str(TextToClean))#Removing Extra Whitespaces\n",
    "#     TextToClean = re.sub(r'\\s+[a-zA-Z]\\s+', \"\", str(TextToClean))#Removing single carecter\n",
    "\n",
    "\n",
    "    return TextToClean\n",
    "\n",
    "\n",
    "\n",
    "\n",
    "def remove_emoji(Text_with_emoji):\n",
    "    emoji_pattern = re.compile(\"[\"\n",
    "                               u\"\\U0001F600-\\U0001F64F\"  # emoticons\n",
    "                               u\"\\U0001F300-\\U0001F5FF\"  # symbols & pictographs\n",
    "                               u\"\\U0001F680-\\U0001F6FF\"  # transport & map symbols\n",
    "                               u\"\\U0001F1E0-\\U0001F1FF\"  # flags (appel phone)\n",
    "                               u\"\\U00002500-\\U00002BEF\"  # chinese char\n",
    "                               u\"\\U00002702-\\U000027B0\"\n",
    "                               u\"\\U00002702-\\U000027B0\"\n",
    "                               u\"\\U000024C2-\\U0001F251\"\n",
    "                               u\"\\U0001f926-\\U0001f937\"\n",
    "                               u\"\\U00010000-\\U0010ffff\"\n",
    "                               u\"\\u2640-\\u2642\"\n",
    "                               u\"\\u2600-\\u2B55\"\n",
    "                               u\"\\u200d\"\n",
    "                               u\"\\u23cf\"\n",
    "                               u\"\\u23e9\"\n",
    "                               u\"\\u231a\"\n",
    "                               u\"\\ufe0f\"  # dingbats\n",
    "                               u\"\\u3030\"\n",
    "                               \"]+\", flags=re.UNICODE)\n",
    "    return emoji_pattern.sub(r'', Text_with_emoji)\n",
    "\n",
    "\n",
    "\n",
    "\n",
    "tweets['text'] = tweets['text'].apply(CleanText)\n",
    "tweets['text'] = tweets['text'].apply(remove_emoji)\n",
    "# tweets['extended_tweet'] = tweets['text'].apply(CleanText)\n",
    "# tweets['extended_tweet'] = tweets['text'].apply(remove_emoji)\n",
    "#lower text\n",
    "tweets[\"text\"] = tweets[\"text\"].str.lower()\n",
    "# tweets[\"extended_tweet\"] = tweets[\"text\"].str.lower()\n",
    "\n",
    "\n",
    "\n",
    "\n",
    "tweets"
   ]
  },
  {
   "cell_type": "code",
   "execution_count": 20,
   "metadata": {},
   "outputs": [
    {
     "data": {
      "text/plain": [
       "' new scathing analysis of s shady business by the  thereslot of questions around this guy the'"
      ]
     },
     "execution_count": 20,
     "metadata": {},
     "output_type": "execute_result"
    }
   ],
   "source": [
    "tweets['text'][5]"
   ]
  },
  {
   "cell_type": "markdown",
   "metadata": {},
   "source": [
    "<div class=\"alert alert-block alert-success\">\n",
    "<b></b> <B> Now ! we have only cleaned and lower text </B>  \n",
    "\n",
    "</div>\n"
   ]
  },
  {
   "cell_type": "markdown",
   "metadata": {},
   "source": [
    "<h3 style=\"color:blue;\"> <B>  Natural Language Processing </B>  </h3>"
   ]
  },
  {
   "cell_type": "markdown",
   "metadata": {},
   "source": [
    "<B>Natural language processing includes many different techniques for interpreting human language, ranging from statistical and machine learning methods to rules-based and algorithmic approaches.</B>\n",
    "</br>\n",
    "<B>Basic NLP tasks include tokenization and parsing, lemmatization/stemming, part-of-speech tagging, language detection and identification of semantic relationships.</B></br>\n",
    "<B>In general terms, NLP tasks break down language into shorter, elemental pieces, try to understand relationships between the pieces and explore how the pieces work together to create meaning.</B>"
   ]
  },
  {
   "cell_type": "markdown",
   "metadata": {},
   "source": [
    "\n",
    "<h4 style=\"color:orangered;\"> <B> Natural Language Toolkit (NLTK) for  analyzing text </B>  </h4>"
   ]
  },
  {
   "cell_type": "markdown",
   "metadata": {},
   "source": [
    "<B>NLTK is a suite of libraries and programs for symbolic and statistical natural language processing (NLP) for English written in the Python programming language</B>"
   ]
  },
  {
   "cell_type": "markdown",
   "metadata": {},
   "source": [
    "><h4 style=\"color:green;\"><B> Install NLTK </B></h4>"
   ]
  },
  {
   "cell_type": "code",
   "execution_count": 1,
   "metadata": {},
   "outputs": [
    {
     "name": "stdout",
     "output_type": "stream",
     "text": [
      "Collecting nltk\n",
      "  Downloading nltk-3.5.zip (1.4 MB)\n",
      "Requirement already satisfied: click in c:\\users\\user\\anaconda3\\lib\\site-packages (from nltk) (7.1.2)\n",
      "Requirement already satisfied: joblib in c:\\users\\user\\anaconda3\\lib\\site-packages (from nltk) (0.16.0)\n",
      "Requirement already satisfied: regex in c:\\users\\user\\anaconda3\\lib\\site-packages (from nltk) (2020.6.8)\n",
      "Requirement already satisfied: tqdm in c:\\users\\user\\anaconda3\\lib\\site-packages (from nltk) (4.47.0)\n",
      "Building wheels for collected packages: nltk\n",
      "  Building wheel for nltk (setup.py): started\n",
      "  Building wheel for nltk (setup.py): finished with status 'done'\n",
      "  Created wheel for nltk: filename=nltk-3.5-py3-none-any.whl size=1434679 sha256=3bc961ddc00caade782f8044f76ddea6f35277e2fc0e79d914c76b880c08c97e\n",
      "  Stored in directory: c:\\users\\user\\appdata\\local\\pip\\cache\\wheels\\ff\\d5\\7b\\f1fb4e1e1603b2f01c2424dd60fbcc50c12ef918bafc44b155\n",
      "Successfully built nltk\n",
      "Installing collected packages: nltk\n",
      "Successfully installed nltk-3.5\n"
     ]
    }
   ],
   "source": [
    "!pip install nltk"
   ]
  },
  {
   "cell_type": "markdown",
   "metadata": {},
   "source": [
    "><h4 style=\"color:green;\"><B> Install Conda package for NLTK </B></h4>\n"
   ]
  },
  {
   "cell_type": "markdown",
   "metadata": {},
   "source": [
    "<img src =\"images/anacondaNLTK.PNG\" >"
   ]
  },
  {
   "cell_type": "markdown",
   "metadata": {},
   "source": [
    "><h4 style=\"color:green;\"><B>Install punkt</B></h4>\n",
    "\n"
   ]
  },
  {
   "cell_type": "markdown",
   "metadata": {},
   "source": [
    "<img src=\"images/punketinstalled.PNG\" >"
   ]
  },
  {
   "cell_type": "markdown",
   "metadata": {},
   "source": [
    "\n",
    "><h4 style=\"color:orangered;\"><B> remove stopwords </B></h4>\n"
   ]
  },
  {
   "cell_type": "markdown",
   "metadata": {},
   "source": [
    "\n",
    "<B>In every language, some words are particularly common. While their use in the language is crucial, they don’t usually convey a particular meaning, especially if taken out of context. This is the case of articles, conjunctions, some adverbs, etc. which are commonly called stop-words.</br>\n",
    "Stop-word removal is one important step that should be considered during the pre-processing stages. </br>\n",
    "NLTK provides a simple list for English stop-words. </B>"
   ]
  },
  {
   "cell_type": "markdown",
   "metadata": {},
   "source": [
    "<img src=\"images/stopwords.PNG\" >"
   ]
  },
  {
   "cell_type": "markdown",
   "metadata": {},
   "source": [
    "><h4 style=\"color:green;\"><B> Tokenization </B></h4>\n"
   ]
  },
  {
   "cell_type": "markdown",
   "metadata": {},
   "source": [
    "<B>In this step , we will split tweets text into token (words) by using NLTK’s TweetTokenizer.It can  “collapse” repeated characters - that is, lolll, lollllll, and lollllllllllll will all collapse to the same representation \"lolll\" (three “l”s). This is helpful because we tend to think that these tokens represent approximately the same thing. This feature helps curb the curse of dimensionality (i.e. too many low-frequency tokens), while maintaining Twitter-specific features.  </B>\n",
    "\n"
   ]
  },
  {
   "cell_type": "code",
   "execution_count": 24,
   "metadata": {},
   "outputs": [
    {
     "name": "stdout",
     "output_type": "stream",
     "text": [
      "{'himself', 'under', 'our', 'for', 'has', 'does', 'that', 'over', 'nor', 'mustn', 'doing', \"wasn't\", 'now', 'until', 've', 'ours', 'shouldn', 'can', 's', 'will', 'having', 'from', 'this', 'what', 'off', 'shan', 'down', 'herself', 'too', 'ourselves', 'few', 'did', \"didn't\", 'ma', 'same', 'who', 'being', 'hadn', 'or', 'weren', 'where', 'through', 'them', \"needn't\", 'his', 'those', \"wouldn't\", 'd', 'aren', 'such', 'into', \"mightn't\", 'a', 'how', 're', 'you', 'at', 'on', 'and', 'of', 'are', 'have', 'between', 'than', 'in', 'ain', 'so', 'we', 'to', 'am', 'won', 'just', 'very', 'yours', 'here', 'while', 'your', \"should've\", \"you're\", 'been', 'doesn', 'up', 'again', 'but', 'hers', 'yourself', 'not', 'couldn', 'all', 'myself', 'about', 'him', 'during', 'her', 'most', 'isn', \"hadn't\", \"it's\", 'my', 't', \"aren't\", 'their', \"shouldn't\", 'is', \"you've\", 'more', 'then', 'didn', 'do', 'it', \"won't\", 'y', 'had', 'which', 'itself', \"weren't\", \"haven't\", 'haven', 'only', 'these', 'there', 'mightn', 'needn', 'theirs', 'when', 'above', 'm', \"isn't\", 'rts', 'any', \"hasn't\", 'should', 'yourselves', 'she', 'below', \"couldn't\", 'further', \"she's\", 'o', 'before', 'against', \"don't\", 'i', \"shan't\", 'me', 'be', 'its', 'both', 'an', 'no', 'own', 'other', \"doesn't\", 'he', 'because', 'after', 'as', 'each', \"mustn't\", 'the', 'hasn', 'll', 'some', 'if', 'by', 'once', \"you'd\", 'were', 'why', 'wasn', 'themselves', 'whom', 'they', \"that'll\", 'retweet', 'don', 'wouldn', 'rt', 'with', 'out', 'was', \"you'll\"}\n"
     ]
    }
   ],
   "source": [
    "#*************************************************************************************************\n",
    "                                               #This is the stopwords\n",
    "#*************************************************************************************************\n",
    "\n",
    "import nltk\n",
    "#nltk.download()\n",
    "from nltk.tokenize import TweetTokenizer\n",
    "from nltk.corpus import stopwords\n",
    "from nltk.tokenize import word_tokenize\n",
    "from nltk.corpus import stopwords\n",
    "\n",
    "additional  = ['rt','rts','retweet']\n",
    "swords = set().union(stopwords.words('english'),additional)\n",
    "print(swords)\n",
    "\n",
    "tweets['text'] = tweets['text'].apply(lambda x: ' '.join([i for i in x.split() if  i not in (swords)]))"
   ]
  },
  {
   "cell_type": "code",
   "execution_count": 25,
   "metadata": {},
   "outputs": [
    {
     "data": {
      "text/plain": [
       "'new scathing analysis ofshady business thereslot questions around guy'"
      ]
     },
     "execution_count": 25,
     "metadata": {},
     "output_type": "execute_result"
    }
   ],
   "source": [
    "tweets['text'][5]"
   ]
  },
  {
   "cell_type": "code",
   "execution_count": 26,
   "metadata": {},
   "outputs": [],
   "source": [
    "#*************************************************************************************************\n",
    "                                               #This is the tokenizer\n",
    "#*************************************************************************************************\n",
    "\n",
    "\n",
    "import nltk\n",
    "# nltk.download()\n",
    "from nltk.tokenize import TweetTokenizer\n",
    "from nltk.corpus import stopwords\n",
    "tweets['tokonized_text'] = '' \n",
    "\n",
    "tokenizer = TweetTokenizer()\n",
    "tweets['tokonized_text']  =tweets['text'].apply(tokenizer.tokenize)\n",
    "\n"
   ]
  },
  {
   "cell_type": "code",
   "execution_count": 27,
   "metadata": {},
   "outputs": [
    {
     "data": {
      "text/plain": [
       "['new',\n",
       " 'scathing',\n",
       " 'analysis',\n",
       " 'ofshady',\n",
       " 'business',\n",
       " 'thereslot',\n",
       " 'questions',\n",
       " 'around',\n",
       " 'guy']"
      ]
     },
     "execution_count": 27,
     "metadata": {},
     "output_type": "execute_result"
    }
   ],
   "source": [
    "tweets['tokonized_text'][5]"
   ]
  },
  {
   "cell_type": "markdown",
   "metadata": {},
   "source": [
    "><h4 style=\"color:green;\"><B> Stemming </B></h4>\n"
   ]
  },
  {
   "cell_type": "markdown",
   "metadata": {},
   "source": [
    "<B>Stemming is the process of reducing inflection in words to their root forms such as mapping a group of words to the same stem even if the stem itself is not a valid word in the Language.</B>"
   ]
  },
  {
   "cell_type": "code",
   "execution_count": 28,
   "metadata": {},
   "outputs": [],
   "source": [
    "from nltk.stem import PorterStemmer\n",
    "ps = PorterStemmer()\n",
    "tweets['stemmed'] = tweets['tokonized_text'].apply(lambda x: [ps.stem(i) for i in x if i != ''])\n"
   ]
  },
  {
   "cell_type": "code",
   "execution_count": 29,
   "metadata": {},
   "outputs": [
    {
     "data": {
      "text/plain": [
       "['new',\n",
       " 'scath',\n",
       " 'analysi',\n",
       " 'ofshadi',\n",
       " 'busi',\n",
       " 'thereslot',\n",
       " 'question',\n",
       " 'around',\n",
       " 'guy']"
      ]
     },
     "execution_count": 29,
     "metadata": {},
     "output_type": "execute_result"
    }
   ],
   "source": [
    "tweets['stemmed'][5]"
   ]
  },
  {
   "cell_type": "markdown",
   "metadata": {},
   "source": [
    "><h4 style=\"color:green;\"><B> Lemmatization  </B></h4>\n"
   ]
  },
  {
   "cell_type": "code",
   "execution_count": 30,
   "metadata": {},
   "outputs": [
    {
     "name": "stderr",
     "output_type": "stream",
     "text": [
      "[nltk_data] Downloading package wordnet to\n",
      "[nltk_data]     C:\\Users\\User\\AppData\\Roaming\\nltk_data...\n",
      "[nltk_data]   Package wordnet is already up-to-date!\n"
     ]
    }
   ],
   "source": [
    "from nltk.stem.wordnet import WordNetLemmatizer\n",
    "nltk.download('wordnet') #download wordnet package with code \n",
    "lmtzr = WordNetLemmatizer()\n",
    "tweets['lemma'] = tweets['stemmed'].apply(lambda x: [lmtzr.lemmatize(word,'v') for word in x if word!= ''])\n"
   ]
  },
  {
   "cell_type": "code",
   "execution_count": 31,
   "metadata": {},
   "outputs": [
    {
     "data": {
      "text/plain": [
       "['new',\n",
       " 'scath',\n",
       " 'analysi',\n",
       " 'ofshadi',\n",
       " 'busi',\n",
       " 'thereslot',\n",
       " 'question',\n",
       " 'around',\n",
       " 'guy']"
      ]
     },
     "execution_count": 31,
     "metadata": {},
     "output_type": "execute_result"
    }
   ],
   "source": [
    "tweets['lemma'][5]"
   ]
  },
  {
   "cell_type": "markdown",
   "metadata": {},
   "source": [
    "<h3 style=\"color:blue;\"> <B> STEP4 : Modeling </B>  </h3>\n"
   ]
  },
  {
   "cell_type": "markdown",
   "metadata": {},
   "source": [
    "><h4 style=\"color:green;\"><B> K-means </B></h4>\n"
   ]
  },
  {
   "cell_type": "markdown",
   "metadata": {},
   "source": [
    "<B>Now as a Ml Algorithm for clustering we will use K-means with cosine as a distance metric </B>\n",
    "\n",
    "<B>By this example we will understand How does K-means work </B>\n",
    "\n",
    "<img src=\"images/k-means.png\">\n",
    "<h5 style=\"color:red;\"><B> Step1</B></h5>\n",
    "Here we are having a few data points, which we want to cluster. So we would start by picking the number of clusters we want to have.</br>\n",
    "\n",
    "<h5 style=\"color:purpel;\"><B> Step2</B></h5>\n",
    "We have successfully marked the centers of these clusters. Now we will be marking all the points with respective colors on the basis of the distance they have from the centroid.</br>\n",
    "\n",
    "<h5 style=\"color:purpel;\"><B> Step3</B></h5>\n",
    "After marking all the data points, we will now be computing the centroid of this cluster again. We are doing it because initially, we had picked the centroid randomly. Then to remove error, if any, we are doing it.\n",
    "\n",
    "The centroid of the cluster is computed by finding a point within the cluster that would be equidistant from all the data points.</br>\n",
    "\n",
    "<h5 style=\"color:purpel;\"><B> Step4</B></h5>\n",
    "\n",
    "Now since we have computed the centroid again and we know it is not the same as it was before so we would iterate the process again and would find the points nearest to this centroid for each cluster.</br>\n",
    "\n",
    "<h5 style=\"color:purpel;\"><B> Step5</B></h5>\n",
    "Now we have got the result again. One may ask when shall we stop the iteration of this finding the centroid and then placing the data points accordingly? Well, you have to do it till the time when the position of the centroids doesn’t change.</br>\n",
    "\n",
    "<h5 style=\"color:purpel;\"><B> Step6</B></h5>\n",
    "We marked the two clusters.\n",
    "\n",
    "In this case, it was easy, so we were able to get the results in 2 iterations only.\n",
    "\n",
    "We had also talked about the random initialization that we are putting ourselves into. With this a problem we have is that it can land us up with some really bad clusters which won’t be of any use. "
   ]
  },
  {
   "cell_type": "markdown",
   "metadata": {},
   "source": [
    "><h4 style=\"color:green;\"><B> K-means Mertrics</B></h4>\n"
   ]
  },
  {
   "cell_type": "markdown",
   "metadata": {},
   "source": [
    "<B> K-means have 3 distance metrics </B>\n",
    "    <li><B>Euclidean Distance</B></li>\n",
    "    <li><B>Cosine Distance</B></li>\n",
    "    <li><B>Jaccard Similarity</B></li>"
   ]
  },
  {
   "cell_type": "markdown",
   "metadata": {},
   "source": [
    "<img src=\"images/metricc.gif\">"
   ]
  },
  {
   "cell_type": "code",
   "execution_count": 36,
   "metadata": {},
   "outputs": [],
   "source": [
    "from sklearn.feature_extraction.text import TfidfVectorizer\n",
    "from sklearn.feature_extraction.text import CountVectorizer\n",
    "from sklearn.feature_extraction import text\n",
    "from nltk.cluster.kmeans import KMeansClusterer\n",
    "from sklearn.metrics.pairwise import cosine_similarity\n",
    "from sklearn.decomposition import TruncatedSVD\n",
    "from collections import Counter\n",
    "import matplotlib.pyplot as plt\n",
    "from datetime import datetime\n",
    "import nltk\n",
    "import pandas as pd\n",
    "import numpy as np\n",
    "import random\n",
    "from sklearn.decomposition import PCA      "
   ]
  },
  {
   "cell_type": "markdown",
   "metadata": {},
   "source": [
    "><h4 style=\"color:green;\"><B> Vectorization</B></h4>\n"
   ]
  },
  {
   "cell_type": "code",
   "execution_count": 37,
   "metadata": {},
   "outputs": [
    {
     "name": "stdout",
     "output_type": "stream",
     "text": [
      "orig shape: (13937, 33742)\n",
      "new shape: (13937, 100)\n"
     ]
    }
   ],
   "source": [
    "RUNTIME_MODE = \"Cosine\"\n",
    "SAMPLE_COUNT = 14000\n",
    "MAX_CLUSTER = 25\n",
    "random.seed(1)\n",
    "\n",
    "content = tweets['text'].values # Get the news content to news array\n",
    "\n",
    "stop_words = set(text.ENGLISH_STOP_WORDS)\n",
    "my_stop_words = text.ENGLISH_STOP_WORDS.union([\n",
    " \"also\", \"said\", \"mr\", \"mrs\", \"im\", \"would\", \"could\", \"should\", \"first\", \"like\", \"dont\",\n",
    " \"wont\", \"get\", \"going\", \"ms\", \"one\", \"____\", \"_____\", \"new\", \"news\", \"told\", \"way\",\n",
    " \"year\", \"years\", \"don\", \"day\", \"man\", \"did\", \"just\", \"time\", \"times\", \"make\", \"000\",\n",
    " \"united\", \"state\", \"states\", \"people\", \"ve\", \"white\", \"house\", \"president\",\n",
    " \"government\", \"york\", \"want\", \"know\", \"think\", \"officials\", \"say\", \"breitbart\",\n",
    " \"percent\", \"home\", \"city\", \"case\", \"really\", \"work\", \"according\", \"including\",\n",
    " \"good\", \"campaign\", \"country\", \"long\", \"world\", \"donald\", \"trump\", \"didn\", \"women\",\n",
    " \"called\", \"american\", \"men\", \"later\", \"follow\", \"week\", \"black\", \"little\", \"company\",\n",
    " \"companies\", \"posted\", \"morning\", \"today\", \"evening\", \"com\", \"nytimes\", \"weekend\", \"10\"\n",
    "]\n",
    ")\n",
    "vectorizer = CountVectorizer(stop_words=my_stop_words, binary=False)\n",
    "X_orig = vectorizer.fit_transform(content[0:SAMPLE_COUNT]).toarray()\n",
    "svd = TruncatedSVD(n_components=100, random_state = 0)\n",
    "X = svd.fit_transform(X_orig)\n",
    "print(\"orig shape:\", X_orig.shape)\n",
    "print(\"new shape:\", X.shape)"
   ]
  },
  {
   "cell_type": "markdown",
   "metadata": {},
   "source": [
    "><h4 style=\"color:green;\"><B> K-means Clustering</B></h4>\n"
   ]
  },
  {
   "cell_type": "code",
   "execution_count": null,
   "metadata": {},
   "outputs": [
    {
     "name": "stderr",
     "output_type": "stream",
     "text": [
      "C:\\Users\\User\\anaconda3\\lib\\site-packages\\nltk\\cluster\\util.py:131: RuntimeWarning: invalid value encountered in double_scalars\n",
      "  return 1 - (numpy.dot(u, v) / (sqrt(numpy.dot(u, u)) * sqrt(numpy.dot(v, v))))\n"
     ]
    },
    {
     "name": "stdout",
     "output_type": "stream",
     "text": [
      "Item count in clusters:\n",
      "Counter({1: 7707, 0: 6230})\n",
      "Item count in clusters:\n",
      "Counter({1: 7473, 0: 3365, 2: 3099})\n"
     ]
    }
   ],
   "source": [
    "terms = vectorizer.get_feature_names() # Get the array of terms that exists in documents\n",
    "inner_dist = np.zeros(shape=[MAX_CLUSTER - 1])\n",
    "for NUM_CLUSTERS in range(2, MAX_CLUSTER + 1):\n",
    "    kmeans = KMeansClusterer(num_means=NUM_CLUSTERS,\n",
    "    distance=nltk.cluster.util.cosine_distance, repeats=25, avoid_empty_clusters=True)\n",
    "#initial_means=means)\n",
    "    labels = kmeans.cluster(X, assign_clusters=True)\n",
    "    cluster_centers = np.asarray(kmeans.means())\n",
    "    print(\"Item count in clusters:\")\n",
    "    print(Counter(labels))\n",
    "    cluster_means = np.zeros(shape=[NUM_CLUSTERS, len(terms)])\n",
    "    item_counts = np.zeros(shape=[NUM_CLUSTERS])"
   ]
  },
  {
   "cell_type": "code",
   "execution_count": null,
   "metadata": {},
   "outputs": [],
   "source": [
    "terms = vectorizer.get_feature_names() # Get the array of terms that exists in documents\n",
    "NUM_CLUSTERS = 6\n",
    "inner_dist = np.zeros(shape=[MAX_CLUSTER - 1])\n",
    "kmeans = KMeansClusterer(num_means=NUM_CLUSTERS,distance=nltk.cluster.util.cosine_distance, repeats=25, avoid_empty_clusters=True)\n",
    "#initial_means=means)\n",
    "labels = kmeans.cluster(X, assign_clusters=True)\n",
    "cluster_centers = np.asarray(kmeans.means())\n",
    "print(\"Item count in clusters:\")\n",
    "print(Counter(labels))\n",
    "cluster_means = np.zeros(shape=[NUM_CLUSTERS, len(terms)])\n",
    "item_counts = np.zeros(shape=[NUM_CLUSTERS])"
   ]
  },
  {
   "cell_type": "markdown",
   "metadata": {},
   "source": [
    "><h4 style=\"color:green;\"><B> Top words per Cluster</B></h4>\n"
   ]
  },
  {
   "cell_type": "code",
   "execution_count": null,
   "metadata": {},
   "outputs": [],
   "source": [
    "for ind in range(SAMPLE_COUNT):\n",
    "    cluster_means[labels[ind]] = cluster_means[labels[ind]] + X_orig[ind]\n",
    "    item_counts[labels[ind]] = item_counts[labels[ind]] + 1\n",
    "    for ind in range(NUM_CLUSTERS):\n",
    "        cluster_means[ind] = cluster_means[ind] / item_counts[ind]\n",
    "        print(\"Top terms per cluster:\")\n",
    "        order_centroids = cluster_means.argsort()[:, ::-1]\n",
    "\n",
    "    for cls in range(NUM_CLUSTERS):\n",
    "        print(\"Cluster\", cls, ': ', end=''),\n",
    "        for ind in order_centroids[cls, :10]:\n",
    "            print(terms[ind], ' , ', end='')\n",
    "            print()"
   ]
  },
  {
   "cell_type": "code",
   "execution_count": 15,
   "metadata": {},
   "outputs": [
    {
     "data": {
      "text/plain": [
       "array([[0, 0, 0, ..., 0, 0, 0],\n",
       "       [0, 0, 0, ..., 0, 0, 0],\n",
       "       [0, 0, 0, ..., 0, 0, 0],\n",
       "       ...,\n",
       "       [0, 0, 0, ..., 0, 0, 0],\n",
       "       [0, 0, 0, ..., 0, 0, 0],\n",
       "       [0, 0, 0, ..., 0, 0, 0]], dtype=int64)"
      ]
     },
     "execution_count": 15,
     "metadata": {},
     "output_type": "execute_result"
    }
   ],
   "source": [
    "import pandas as pd\n",
    "from sklearn.feature_extraction.text import CountVectorizer\n",
    "from sklearn.feature_extraction.text import TfidfVectorizer\n",
    "import re\n",
    "\n",
    "vec = CountVectorizer()\n",
    "matrix = vec.fit_transform(tweets['text'])\n",
    "matrix.toarray()\n",
    "\n",
    "# vec.get_feature_names()"
   ]
  },
  {
   "cell_type": "markdown",
   "metadata": {},
   "source": [
    "><h4 style=\"color:green;\"><B> Cosine Metric</B></h4>\n"
   ]
  },
  {
   "cell_type": "code",
   "execution_count": 16,
   "metadata": {},
   "outputs": [
    {
     "name": "stdout",
     "output_type": "stream",
     "text": [
      "[[1.11022302e-16 1.00000000e+00 8.58578644e-01 ... 1.00000000e+00\n",
      "  1.00000000e+00 8.88196601e-01]\n",
      " [1.00000000e+00 3.33066907e-16 1.00000000e+00 ... 1.00000000e+00\n",
      "  1.00000000e+00 1.00000000e+00]\n",
      " [8.58578644e-01 1.00000000e+00 1.11022302e-16 ... 1.00000000e+00\n",
      "  1.00000000e+00 9.20943058e-01]\n",
      " ...\n",
      " [1.00000000e+00 1.00000000e+00 1.00000000e+00 ... 2.22044605e-16\n",
      "  1.00000000e+00 1.00000000e+00]\n",
      " [1.00000000e+00 1.00000000e+00 1.00000000e+00 ... 1.00000000e+00\n",
      "  0.00000000e+00 1.00000000e+00]\n",
      " [8.88196601e-01 1.00000000e+00 9.20943058e-01 ... 1.00000000e+00\n",
      "  1.00000000e+00 0.00000000e+00]]\n"
     ]
    }
   ],
   "source": [
    "from sklearn.metrics.pairwise import cosine_similarity\n",
    "dist = 1 - cosine_similarity(matrix)\n",
    "print(dist)\n"
   ]
  },
  {
   "cell_type": "code",
   "execution_count": 65,
   "metadata": {},
   "outputs": [],
   "source": [
    "from sklearn.cluster import KMeans\n",
    "\n",
    "num_clusters = 5\n",
    "\n",
    "km = KMeans(n_clusters=num_clusters , )\n",
    "\n",
    "km.fit(matrix)\n",
    "\n",
    "clusters = km.labels_"
   ]
  },
  {
   "cell_type": "code",
   "execution_count": 66,
   "metadata": {},
   "outputs": [],
   "source": [
    "import pandas as pd\n",
    "from sklearn.externals import joblib\n",
    "\n",
    "#uncomment the below to save your model \n",
    "#since I've already run my model I am loading from the pickle\n",
    "\n",
    "joblib.dump(km,  'tweets_cluster.pkl')\n",
    "\n",
    "\n",
    "\n",
    "km = joblib.load('tweets_cluster.pkl')\n",
    "clusters = km.labels_\n",
    "# print(clusters)\n"
   ]
  },
  {
   "cell_type": "code",
   "execution_count": 67,
   "metadata": {},
   "outputs": [
    {
     "data": {
      "text/plain": [
       "4.0    3030\n",
       "3.0    2534\n",
       "1.0    2145\n",
       "2.0    1932\n",
       "0.0     113\n",
       "Name: cluster, dtype: int64"
      ]
     },
     "execution_count": 67,
     "metadata": {},
     "output_type": "execute_result"
    }
   ],
   "source": [
    "tweets= tweets.assign(cluster=pd.Series(km.labels_))\n",
    "tweets['cluster'].value_counts()\n"
   ]
  },
  {
   "cell_type": "code",
   "execution_count": 69,
   "metadata": {},
   "outputs": [
    {
     "name": "stdout",
     "output_type": "stream",
     "text": [
      "Top terms per cluster:\n",
      "Cluster 0:\n",
      " trump\n",
      " co\n",
      " business\n",
      " vaccine\n",
      "Cluster 1:\n",
      " business\n",
      " co\n",
      " small\n",
      " mind\n",
      "Cluster 2:\n",
      " health\n",
      " co\n",
      " mental\n",
      " care\n",
      "Cluster 3:\n",
      " sport\n",
      " people\n",
      " it\n",
      " one\n",
      "Cluster 4:\n",
      " co\n",
      " sport\n",
      " people\n",
      " it\n"
     ]
    }
   ],
   "source": [
    "print(\"Top terms per cluster:\")\n",
    "order_centroids = km.cluster_centers_.argsort()[:, ::-1]\n",
    "terms = vec.get_feature_names()\n",
    "for i in range(num_clusters):\n",
    "    print(\"Cluster %d:\" % i),\n",
    "    for ind in order_centroids[i, :4]:\n",
    "        print(' %s' % terms[ind]),\n",
    "    print"
   ]
  },
  {
   "cell_type": "code",
   "execution_count": 80,
   "metadata": {},
   "outputs": [
    {
     "ename": "ValueError",
     "evalue": "'c' argument has 13937 elements, which is inconsistent with 'x' and 'y' with size 1.",
     "output_type": "error",
     "traceback": [
      "\u001b[1;31m---------------------------------------------------------------------------\u001b[0m",
      "\u001b[1;31mValueError\u001b[0m                                Traceback (most recent call last)",
      "\u001b[1;32m~\\anaconda3\\lib\\site-packages\\matplotlib\\axes\\_axes.py\u001b[0m in \u001b[0;36m_parse_scatter_color_args\u001b[1;34m(c, edgecolors, kwargs, xsize, get_next_color_func)\u001b[0m\n\u001b[0;32m   4238\u001b[0m             \u001b[1;32mtry\u001b[0m\u001b[1;33m:\u001b[0m  \u001b[1;31m# Is 'c' acceptable as PathCollection facecolors?\u001b[0m\u001b[1;33m\u001b[0m\u001b[1;33m\u001b[0m\u001b[0m\n\u001b[1;32m-> 4239\u001b[1;33m                 \u001b[0mcolors\u001b[0m \u001b[1;33m=\u001b[0m \u001b[0mmcolors\u001b[0m\u001b[1;33m.\u001b[0m\u001b[0mto_rgba_array\u001b[0m\u001b[1;33m(\u001b[0m\u001b[0mc\u001b[0m\u001b[1;33m)\u001b[0m\u001b[1;33m\u001b[0m\u001b[1;33m\u001b[0m\u001b[0m\n\u001b[0m\u001b[0;32m   4240\u001b[0m             \u001b[1;32mexcept\u001b[0m \u001b[0mValueError\u001b[0m\u001b[1;33m:\u001b[0m\u001b[1;33m\u001b[0m\u001b[1;33m\u001b[0m\u001b[0m\n",
      "\u001b[1;32m~\\anaconda3\\lib\\site-packages\\matplotlib\\colors.py\u001b[0m in \u001b[0;36mto_rgba_array\u001b[1;34m(c, alpha)\u001b[0m\n\u001b[0;32m    339\u001b[0m     \u001b[1;32melse\u001b[0m\u001b[1;33m:\u001b[0m\u001b[1;33m\u001b[0m\u001b[1;33m\u001b[0m\u001b[0m\n\u001b[1;32m--> 340\u001b[1;33m         \u001b[1;32mreturn\u001b[0m \u001b[0mnp\u001b[0m\u001b[1;33m.\u001b[0m\u001b[0marray\u001b[0m\u001b[1;33m(\u001b[0m\u001b[1;33m[\u001b[0m\u001b[0mto_rgba\u001b[0m\u001b[1;33m(\u001b[0m\u001b[0mcc\u001b[0m\u001b[1;33m,\u001b[0m \u001b[0malpha\u001b[0m\u001b[1;33m)\u001b[0m \u001b[1;32mfor\u001b[0m \u001b[0mcc\u001b[0m \u001b[1;32min\u001b[0m \u001b[0mc\u001b[0m\u001b[1;33m]\u001b[0m\u001b[1;33m)\u001b[0m\u001b[1;33m\u001b[0m\u001b[1;33m\u001b[0m\u001b[0m\n\u001b[0m\u001b[0;32m    341\u001b[0m \u001b[1;33m\u001b[0m\u001b[0m\n",
      "\u001b[1;32m~\\anaconda3\\lib\\site-packages\\matplotlib\\colors.py\u001b[0m in \u001b[0;36m<listcomp>\u001b[1;34m(.0)\u001b[0m\n\u001b[0;32m    339\u001b[0m     \u001b[1;32melse\u001b[0m\u001b[1;33m:\u001b[0m\u001b[1;33m\u001b[0m\u001b[1;33m\u001b[0m\u001b[0m\n\u001b[1;32m--> 340\u001b[1;33m         \u001b[1;32mreturn\u001b[0m \u001b[0mnp\u001b[0m\u001b[1;33m.\u001b[0m\u001b[0marray\u001b[0m\u001b[1;33m(\u001b[0m\u001b[1;33m[\u001b[0m\u001b[0mto_rgba\u001b[0m\u001b[1;33m(\u001b[0m\u001b[0mcc\u001b[0m\u001b[1;33m,\u001b[0m \u001b[0malpha\u001b[0m\u001b[1;33m)\u001b[0m \u001b[1;32mfor\u001b[0m \u001b[0mcc\u001b[0m \u001b[1;32min\u001b[0m \u001b[0mc\u001b[0m\u001b[1;33m]\u001b[0m\u001b[1;33m)\u001b[0m\u001b[1;33m\u001b[0m\u001b[1;33m\u001b[0m\u001b[0m\n\u001b[0m\u001b[0;32m    341\u001b[0m \u001b[1;33m\u001b[0m\u001b[0m\n",
      "\u001b[1;32m~\\anaconda3\\lib\\site-packages\\matplotlib\\colors.py\u001b[0m in \u001b[0;36mto_rgba\u001b[1;34m(c, alpha)\u001b[0m\n\u001b[0;32m    184\u001b[0m     \u001b[1;32mif\u001b[0m \u001b[0mrgba\u001b[0m \u001b[1;32mis\u001b[0m \u001b[1;32mNone\u001b[0m\u001b[1;33m:\u001b[0m  \u001b[1;31m# Suppress exception chaining of cache lookup failure.\u001b[0m\u001b[1;33m\u001b[0m\u001b[1;33m\u001b[0m\u001b[0m\n\u001b[1;32m--> 185\u001b[1;33m         \u001b[0mrgba\u001b[0m \u001b[1;33m=\u001b[0m \u001b[0m_to_rgba_no_colorcycle\u001b[0m\u001b[1;33m(\u001b[0m\u001b[0mc\u001b[0m\u001b[1;33m,\u001b[0m \u001b[0malpha\u001b[0m\u001b[1;33m)\u001b[0m\u001b[1;33m\u001b[0m\u001b[1;33m\u001b[0m\u001b[0m\n\u001b[0m\u001b[0;32m    186\u001b[0m         \u001b[1;32mtry\u001b[0m\u001b[1;33m:\u001b[0m\u001b[1;33m\u001b[0m\u001b[1;33m\u001b[0m\u001b[0m\n",
      "\u001b[1;32m~\\anaconda3\\lib\\site-packages\\matplotlib\\colors.py\u001b[0m in \u001b[0;36m_to_rgba_no_colorcycle\u001b[1;34m(c, alpha)\u001b[0m\n\u001b[0;32m    267\u001b[0m         \u001b[1;31m# Test dimensionality to reject single floats.\u001b[0m\u001b[1;33m\u001b[0m\u001b[1;33m\u001b[0m\u001b[1;33m\u001b[0m\u001b[0m\n\u001b[1;32m--> 268\u001b[1;33m         \u001b[1;32mraise\u001b[0m \u001b[0mValueError\u001b[0m\u001b[1;33m(\u001b[0m\u001b[1;34mf\"Invalid RGBA argument: {orig_c!r}\"\u001b[0m\u001b[1;33m)\u001b[0m\u001b[1;33m\u001b[0m\u001b[1;33m\u001b[0m\u001b[0m\n\u001b[0m\u001b[0;32m    269\u001b[0m     \u001b[1;31m# Return a tuple to prevent the cached value from being modified.\u001b[0m\u001b[1;33m\u001b[0m\u001b[1;33m\u001b[0m\u001b[1;33m\u001b[0m\u001b[0m\n",
      "\u001b[1;31mValueError\u001b[0m: Invalid RGBA argument: 1.0",
      "\nDuring handling of the above exception, another exception occurred:\n",
      "\u001b[1;31mValueError\u001b[0m                                Traceback (most recent call last)",
      "\u001b[1;32m<ipython-input-80-b8cfa5fe474e>\u001b[0m in \u001b[0;36m<module>\u001b[1;34m\u001b[0m\n\u001b[0;32m      1\u001b[0m \u001b[1;32mimport\u001b[0m \u001b[0mmatplotlib\u001b[0m\u001b[1;33m.\u001b[0m\u001b[0mpyplot\u001b[0m \u001b[1;32mas\u001b[0m \u001b[0mplt\u001b[0m\u001b[1;33m\u001b[0m\u001b[1;33m\u001b[0m\u001b[0m\n\u001b[0;32m      2\u001b[0m \u001b[0my_kmeans\u001b[0m \u001b[1;33m=\u001b[0m \u001b[0mkm\u001b[0m\u001b[1;33m.\u001b[0m\u001b[0mpredict\u001b[0m\u001b[1;33m(\u001b[0m\u001b[0mmatrix\u001b[0m\u001b[1;33m)\u001b[0m\u001b[1;33m\u001b[0m\u001b[1;33m\u001b[0m\u001b[0m\n\u001b[1;32m----> 3\u001b[1;33m \u001b[0mplt\u001b[0m\u001b[1;33m.\u001b[0m\u001b[0mscatter\u001b[0m\u001b[1;33m(\u001b[0m\u001b[0mmatrix\u001b[0m\u001b[1;33m[\u001b[0m\u001b[1;33m:\u001b[0m\u001b[1;33m,\u001b[0m \u001b[1;36m0\u001b[0m\u001b[1;33m]\u001b[0m\u001b[1;33m,\u001b[0m \u001b[0mmatrix\u001b[0m\u001b[1;33m[\u001b[0m\u001b[1;33m:\u001b[0m\u001b[1;33m,\u001b[0m \u001b[1;36m5\u001b[0m\u001b[1;33m]\u001b[0m\u001b[1;33m,\u001b[0m \u001b[0mc\u001b[0m\u001b[1;33m=\u001b[0m\u001b[0my_kmeans\u001b[0m\u001b[1;33m,\u001b[0m \u001b[0ms\u001b[0m\u001b[1;33m=\u001b[0m\u001b[1;36m50\u001b[0m\u001b[1;33m,\u001b[0m \u001b[0mcmap\u001b[0m\u001b[1;33m=\u001b[0m\u001b[1;34m'viridis'\u001b[0m\u001b[1;33m)\u001b[0m\u001b[1;33m\u001b[0m\u001b[1;33m\u001b[0m\u001b[0m\n\u001b[0m\u001b[0;32m      4\u001b[0m \u001b[1;33m\u001b[0m\u001b[0m\n\u001b[0;32m      5\u001b[0m \u001b[0mcenters\u001b[0m \u001b[1;33m=\u001b[0m\u001b[0mkm\u001b[0m\u001b[1;33m.\u001b[0m\u001b[0mcluster_centers_\u001b[0m\u001b[1;33m\u001b[0m\u001b[1;33m\u001b[0m\u001b[0m\n",
      "\u001b[1;32m~\\anaconda3\\lib\\site-packages\\matplotlib\\pyplot.py\u001b[0m in \u001b[0;36mscatter\u001b[1;34m(x, y, s, c, marker, cmap, norm, vmin, vmax, alpha, linewidths, verts, edgecolors, plotnonfinite, data, **kwargs)\u001b[0m\n\u001b[0;32m   2809\u001b[0m         \u001b[0mverts\u001b[0m\u001b[1;33m=\u001b[0m\u001b[0mcbook\u001b[0m\u001b[1;33m.\u001b[0m\u001b[0mdeprecation\u001b[0m\u001b[1;33m.\u001b[0m\u001b[0m_deprecated_parameter\u001b[0m\u001b[1;33m,\u001b[0m\u001b[1;33m\u001b[0m\u001b[1;33m\u001b[0m\u001b[0m\n\u001b[0;32m   2810\u001b[0m         edgecolors=None, *, plotnonfinite=False, data=None, **kwargs):\n\u001b[1;32m-> 2811\u001b[1;33m     __ret = gca().scatter(\n\u001b[0m\u001b[0;32m   2812\u001b[0m         \u001b[0mx\u001b[0m\u001b[1;33m,\u001b[0m \u001b[0my\u001b[0m\u001b[1;33m,\u001b[0m \u001b[0ms\u001b[0m\u001b[1;33m=\u001b[0m\u001b[0ms\u001b[0m\u001b[1;33m,\u001b[0m \u001b[0mc\u001b[0m\u001b[1;33m=\u001b[0m\u001b[0mc\u001b[0m\u001b[1;33m,\u001b[0m \u001b[0mmarker\u001b[0m\u001b[1;33m=\u001b[0m\u001b[0mmarker\u001b[0m\u001b[1;33m,\u001b[0m \u001b[0mcmap\u001b[0m\u001b[1;33m=\u001b[0m\u001b[0mcmap\u001b[0m\u001b[1;33m,\u001b[0m \u001b[0mnorm\u001b[0m\u001b[1;33m=\u001b[0m\u001b[0mnorm\u001b[0m\u001b[1;33m,\u001b[0m\u001b[1;33m\u001b[0m\u001b[1;33m\u001b[0m\u001b[0m\n\u001b[0;32m   2813\u001b[0m         \u001b[0mvmin\u001b[0m\u001b[1;33m=\u001b[0m\u001b[0mvmin\u001b[0m\u001b[1;33m,\u001b[0m \u001b[0mvmax\u001b[0m\u001b[1;33m=\u001b[0m\u001b[0mvmax\u001b[0m\u001b[1;33m,\u001b[0m \u001b[0malpha\u001b[0m\u001b[1;33m=\u001b[0m\u001b[0malpha\u001b[0m\u001b[1;33m,\u001b[0m \u001b[0mlinewidths\u001b[0m\u001b[1;33m=\u001b[0m\u001b[0mlinewidths\u001b[0m\u001b[1;33m,\u001b[0m\u001b[1;33m\u001b[0m\u001b[1;33m\u001b[0m\u001b[0m\n",
      "\u001b[1;32m~\\anaconda3\\lib\\site-packages\\matplotlib\\__init__.py\u001b[0m in \u001b[0;36minner\u001b[1;34m(ax, data, *args, **kwargs)\u001b[0m\n\u001b[0;32m   1563\u001b[0m     \u001b[1;32mdef\u001b[0m \u001b[0minner\u001b[0m\u001b[1;33m(\u001b[0m\u001b[0max\u001b[0m\u001b[1;33m,\u001b[0m \u001b[1;33m*\u001b[0m\u001b[0margs\u001b[0m\u001b[1;33m,\u001b[0m \u001b[0mdata\u001b[0m\u001b[1;33m=\u001b[0m\u001b[1;32mNone\u001b[0m\u001b[1;33m,\u001b[0m \u001b[1;33m**\u001b[0m\u001b[0mkwargs\u001b[0m\u001b[1;33m)\u001b[0m\u001b[1;33m:\u001b[0m\u001b[1;33m\u001b[0m\u001b[1;33m\u001b[0m\u001b[0m\n\u001b[0;32m   1564\u001b[0m         \u001b[1;32mif\u001b[0m \u001b[0mdata\u001b[0m \u001b[1;32mis\u001b[0m \u001b[1;32mNone\u001b[0m\u001b[1;33m:\u001b[0m\u001b[1;33m\u001b[0m\u001b[1;33m\u001b[0m\u001b[0m\n\u001b[1;32m-> 1565\u001b[1;33m             \u001b[1;32mreturn\u001b[0m \u001b[0mfunc\u001b[0m\u001b[1;33m(\u001b[0m\u001b[0max\u001b[0m\u001b[1;33m,\u001b[0m \u001b[1;33m*\u001b[0m\u001b[0mmap\u001b[0m\u001b[1;33m(\u001b[0m\u001b[0msanitize_sequence\u001b[0m\u001b[1;33m,\u001b[0m \u001b[0margs\u001b[0m\u001b[1;33m)\u001b[0m\u001b[1;33m,\u001b[0m \u001b[1;33m**\u001b[0m\u001b[0mkwargs\u001b[0m\u001b[1;33m)\u001b[0m\u001b[1;33m\u001b[0m\u001b[1;33m\u001b[0m\u001b[0m\n\u001b[0m\u001b[0;32m   1566\u001b[0m \u001b[1;33m\u001b[0m\u001b[0m\n\u001b[0;32m   1567\u001b[0m         \u001b[0mbound\u001b[0m \u001b[1;33m=\u001b[0m \u001b[0mnew_sig\u001b[0m\u001b[1;33m.\u001b[0m\u001b[0mbind\u001b[0m\u001b[1;33m(\u001b[0m\u001b[0max\u001b[0m\u001b[1;33m,\u001b[0m \u001b[1;33m*\u001b[0m\u001b[0margs\u001b[0m\u001b[1;33m,\u001b[0m \u001b[1;33m**\u001b[0m\u001b[0mkwargs\u001b[0m\u001b[1;33m)\u001b[0m\u001b[1;33m\u001b[0m\u001b[1;33m\u001b[0m\u001b[0m\n",
      "\u001b[1;32m~\\anaconda3\\lib\\site-packages\\matplotlib\\cbook\\deprecation.py\u001b[0m in \u001b[0;36mwrapper\u001b[1;34m(*args, **kwargs)\u001b[0m\n\u001b[0;32m    356\u001b[0m                 \u001b[1;34mf\"%(removal)s.  If any parameter follows {name!r}, they \"\u001b[0m\u001b[1;33m\u001b[0m\u001b[1;33m\u001b[0m\u001b[0m\n\u001b[0;32m    357\u001b[0m                 f\"should be pass as keyword, not positionally.\")\n\u001b[1;32m--> 358\u001b[1;33m         \u001b[1;32mreturn\u001b[0m \u001b[0mfunc\u001b[0m\u001b[1;33m(\u001b[0m\u001b[1;33m*\u001b[0m\u001b[0margs\u001b[0m\u001b[1;33m,\u001b[0m \u001b[1;33m**\u001b[0m\u001b[0mkwargs\u001b[0m\u001b[1;33m)\u001b[0m\u001b[1;33m\u001b[0m\u001b[1;33m\u001b[0m\u001b[0m\n\u001b[0m\u001b[0;32m    359\u001b[0m \u001b[1;33m\u001b[0m\u001b[0m\n\u001b[0;32m    360\u001b[0m     \u001b[1;32mreturn\u001b[0m \u001b[0mwrapper\u001b[0m\u001b[1;33m\u001b[0m\u001b[1;33m\u001b[0m\u001b[0m\n",
      "\u001b[1;32m~\\anaconda3\\lib\\site-packages\\matplotlib\\axes\\_axes.py\u001b[0m in \u001b[0;36mscatter\u001b[1;34m(self, x, y, s, c, marker, cmap, norm, vmin, vmax, alpha, linewidths, verts, edgecolors, plotnonfinite, **kwargs)\u001b[0m\n\u001b[0;32m   4399\u001b[0m \u001b[1;33m\u001b[0m\u001b[0m\n\u001b[0;32m   4400\u001b[0m         \u001b[0mc\u001b[0m\u001b[1;33m,\u001b[0m \u001b[0mcolors\u001b[0m\u001b[1;33m,\u001b[0m \u001b[0medgecolors\u001b[0m \u001b[1;33m=\u001b[0m\u001b[0;31m \u001b[0m\u001b[0;31m\\\u001b[0m\u001b[1;33m\u001b[0m\u001b[1;33m\u001b[0m\u001b[0m\n\u001b[1;32m-> 4401\u001b[1;33m             self._parse_scatter_color_args(\n\u001b[0m\u001b[0;32m   4402\u001b[0m                 \u001b[0mc\u001b[0m\u001b[1;33m,\u001b[0m \u001b[0medgecolors\u001b[0m\u001b[1;33m,\u001b[0m \u001b[0mkwargs\u001b[0m\u001b[1;33m,\u001b[0m \u001b[0mx\u001b[0m\u001b[1;33m.\u001b[0m\u001b[0msize\u001b[0m\u001b[1;33m,\u001b[0m\u001b[1;33m\u001b[0m\u001b[1;33m\u001b[0m\u001b[0m\n\u001b[0;32m   4403\u001b[0m                 get_next_color_func=self._get_patches_for_fill.get_next_color)\n",
      "\u001b[1;32m~\\anaconda3\\lib\\site-packages\\matplotlib\\axes\\_axes.py\u001b[0m in \u001b[0;36m_parse_scatter_color_args\u001b[1;34m(c, edgecolors, kwargs, xsize, get_next_color_func)\u001b[0m\n\u001b[0;32m   4240\u001b[0m             \u001b[1;32mexcept\u001b[0m \u001b[0mValueError\u001b[0m\u001b[1;33m:\u001b[0m\u001b[1;33m\u001b[0m\u001b[1;33m\u001b[0m\u001b[0m\n\u001b[0;32m   4241\u001b[0m                 \u001b[1;32mif\u001b[0m \u001b[1;32mnot\u001b[0m \u001b[0mvalid_shape\u001b[0m\u001b[1;33m:\u001b[0m\u001b[1;33m\u001b[0m\u001b[1;33m\u001b[0m\u001b[0m\n\u001b[1;32m-> 4242\u001b[1;33m                     \u001b[1;32mraise\u001b[0m \u001b[0minvalid_shape_exception\u001b[0m\u001b[1;33m(\u001b[0m\u001b[0mc\u001b[0m\u001b[1;33m.\u001b[0m\u001b[0msize\u001b[0m\u001b[1;33m,\u001b[0m \u001b[0mxsize\u001b[0m\u001b[1;33m)\u001b[0m\u001b[1;33m\u001b[0m\u001b[1;33m\u001b[0m\u001b[0m\n\u001b[0m\u001b[0;32m   4243\u001b[0m                 \u001b[1;31m# Both the mapping *and* the RGBA conversion failed: pretty\u001b[0m\u001b[1;33m\u001b[0m\u001b[1;33m\u001b[0m\u001b[1;33m\u001b[0m\u001b[0m\n\u001b[0;32m   4244\u001b[0m                 \u001b[1;31m# severe failure => one may appreciate a verbose feedback.\u001b[0m\u001b[1;33m\u001b[0m\u001b[1;33m\u001b[0m\u001b[1;33m\u001b[0m\u001b[0m\n",
      "\u001b[1;31mValueError\u001b[0m: 'c' argument has 13937 elements, which is inconsistent with 'x' and 'y' with size 1."
     ]
    },
    {
     "data": {
      "image/png": "[encoded data removed]",
      "text/plain": [
       "<Figure size 432x288 with 1 Axes>"
      ]
     },
     "metadata": {
      "needs_background": "light"
     },
     "output_type": "display_data"
    }
   ],
   "source": [
    "import matplotlib.pyplot as plt\n",
    "y_kmeans = km.predict(matrix)\n",
    "plt.scatter(matrix[:, 0], matrix[:, 5], c=y_kmeans, s=50, cmap='viridis')\n",
    "\n",
    "centers =km.cluster_centers_\n",
    "plt.scatter(centers[:, 0], centers[:, 5], c='black', s=200, alpha=0.5);"
   ]
  },
  {
   "cell_type": "code",
   "execution_count": 72,
   "metadata": {},
   "outputs": [],
   "source": [
    "#set up colors per clusters using a dict\n",
    "cluster_colors = {0: '#1b9e77', 1: '#d95f02', 2: '#7570b3', 3: '#e7298a', 4: '#66a61e'}\n",
    "\n",
    "#set up cluster names using a dict\n",
    "cluster_names = {0: 'trump, co, business, vaccine',\n",
    "                 1: 'business, co, small,mind ' ,              \n",
    "                 2: 'health, co, mental, care', \n",
    "                 3: 'sport, people,it,one', \n",
    "                 4: 'co, sport, people,it'}"
   ]
  },
  {
   "cell_type": "code",
   "execution_count": 52,
   "metadata": {},
   "outputs": [
    {
     "data": {
      "text/plain": [
       "(-15.0, 15.0)"
      ]
     },
     "execution_count": 52,
     "metadata": {},
     "output_type": "execute_result"
    },
    {
     "data": {
      "image/png": "[encoded data removed]",
      "text/plain": [
       "<Figure size 432x288 with 1 Axes>"
      ]
     },
     "metadata": {
      "needs_background": "light"
     },
     "output_type": "display_data"
    }
   ],
   "source": [
    "# import statements\n",
    "from sklearn.datasets import make_blobs\n",
    "import numpy as np\n",
    "import matplotlib.pyplot as plt\n",
    "# create blobs\n",
    "data = make_blobs(n_samples=200, n_features=2, centers=5, cluster_std=1.6, random_state=50)\n",
    "# create np array for data points\n",
    "points = data[0]\n",
    "# create scatter plot\n",
    "plt.scatter(data[0][:,0], data[0][:,1], c=data[1], cmap='viridis')\n",
    "plt.xlim(-15,15)\n",
    "plt.ylim(-15,15)"
   ]
  },
  {
   "cell_type": "markdown",
   "metadata": {},
   "source": [
    "<B style=\"color:orangered;\">K-means With Jaccard Distance </B>"
   ]
  },
  {
   "cell_type": "markdown",
   "metadata": {},
   "source": [
    "<li><B>Clustering is a type of unsupervised machine learning which aims to find homogeneous subgroups such that objects in the same group (clusters) are more similar to each other than the others.</li>\n",
    "<li><B>KMeans is a clustering algorithm which divides observations into k clusters. Since we can dictate the amount of clusters, it can be easily used in classification where we divide data into clusters which can be equal to or more than the number of classes.</B></li>"
   ]
  },
  {
   "cell_type": "code",
   "execution_count": null,
   "metadata": {},
   "outputs": [],
   "source": [
    "import sys\n",
    "import json\n",
    "import re, string\n",
    "import copy\n",
    "from nltk.corpus import stopwords\n",
    "\n",
    "regex = re.compile('[%s]' % re.escape(string.punctuation))\n",
    "cachedStopWords = stopwords.words('english')\n",
    "\n",
    "class kMeans():\n",
    "    def __init__(self, seeds, tweets):\n",
    "        self.seeds = seeds\n",
    "        self.tweets = tweets\n",
    "        self.max_iterations = 1000\n",
    "        self.k = len(seeds)\n",
    "\n",
    "        self.clusters = {} # cluster to tweetID\n",
    "        self.rev_clusters = {} # reverse index, tweetID to cluster\n",
    "        self.jaccardMatrix = {} # stores pairwise jaccard distance in a matrix\n",
    "\n",
    "        self.initializeClusters()\n",
    "        self.initializeMatrix()\n",
    "\n",
    "    def jaccardDistance(self, setA, setB):\n",
    "        # Calcualtes the Jaccard Distance of two sets\n",
    "        try:\n",
    "            return 1 - float(len(setA.intersection(setB))) / float(len(setA.union(setB)))\n",
    "        except TypeError:\n",
    "            print ('Invalid type. Type set expected.')\n",
    "\n",
    "    def bagOfWords(self, string):\n",
    "        # Returns a bag of words from a given string\n",
    "        # Space delimited, removes punctuation, lowercase\n",
    "        # Cleans text from url, stop words, tweet @, and 'rt'\n",
    "        words = string.lower().strip().split(' ')\n",
    "        for word in words:\n",
    "            word = word.rstrip().lstrip()\n",
    "            if not re.match(r'^https?:\\/\\/.*[\\r\\n]*', word) \\\n",
    "            and not re.match('^@.*', word) \\\n",
    "            and not re.match('\\s', word) \\\n",
    "            and word not in cachedStopWords \\\n",
    "            and word != 'rt' \\\n",
    "            and word != '':\n",
    "                yield regex.sub('', word)\n",
    "\n",
    "    def initializeMatrix(self):\n",
    "        # Dynamic Programming: creates matrix storing pairwise jaccard distances\n",
    "        for ID1 in self.tweets:\n",
    "            self.jaccardMatrix[ID1] = {}\n",
    "            bag1 = set(self.bagOfWords(self.tweets[ID1]['text']))\n",
    "            for ID2 in self.tweets:\n",
    "                if ID2 not in self.jaccardMatrix:\n",
    "                    self.jaccardMatrix[ID2] = {}\n",
    "                bag2 = set(self.bagOfWords(self.tweets[ID2]['text']))\n",
    "                distance = self.jaccardDistance(bag1, bag2)\n",
    "                self.jaccardMatrix[ID1][ID2] = distance\n",
    "                self.jaccardMatrix[ID2][ID1] = distance\n",
    "\n",
    "    def initializeClusters(self):\n",
    "        # Initialize tweets to no cluster\n",
    "        for ID in self.tweets:\n",
    "            self.rev_clusters[ID] = -1\n",
    "\n",
    "        # Initialize clusters with seeds\n",
    "        for k in range(self.k):\n",
    "            self.clusters[k] = set([self.seeds[k]])\n",
    "            self.rev_clusters[self.seeds[k]] = k\n",
    "\n",
    "    def calcNewClusters(self):\n",
    "        # Initialize new cluster\n",
    "        new_clusters = {}\n",
    "        new_rev_cluster = {}\n",
    "        for k in range(self.k):\n",
    "            new_clusters[k] = set()\n",
    "\n",
    "        for ID in self.tweets:\n",
    "            min_dist = float(\"inf\")\n",
    "            min_cluster = self.rev_clusters[ID]\n",
    "\n",
    "            # Calculate min average distance to each cluster\n",
    "            for k in self.clusters:\n",
    "                dist = 0\n",
    "                count = 0\n",
    "                for ID2 in self.clusters[k]:\n",
    "                    dist += self.jaccardMatrix[ID][ID2]\n",
    "                    count += 1\n",
    "                if count > 0:\n",
    "                    avg_dist = dist/float(count)\n",
    "                    if min_dist > avg_dist:\n",
    "                        min_dist = avg_dist\n",
    "                        min_cluster = k\n",
    "            new_clusters[min_cluster].add(ID)\n",
    "            new_rev_cluster[ID] = min_cluster\n",
    "        return new_clusters, new_rev_cluster\n",
    "\n",
    "    def converge(self):\n",
    "        # Initialize previous cluster to compare changes with new clustering\n",
    "        new_clusters, new_rev_clusters = self.calcNewClusters()\n",
    "        self.clusters = copy.deepcopy(new_clusters)\n",
    "        self.rev_clusters = copy.deepcopy(new_rev_clusters)\n",
    "\n",
    "        # Converges until old and new iterations are the same\n",
    "        iterations = 1\n",
    "        while iterations < self.max_iterations:\n",
    "            new_clusters, new_rev_clusters = self.calcNewClusters()\n",
    "            iterations += 1\n",
    "            if self.rev_clusters != new_rev_clusters:\n",
    "                self.clusters = copy.deepcopy(new_clusters)\n",
    "                self.rev_clusters = copy.deepcopy(new_rev_clusters)\n",
    "            else:\n",
    "                #print iterations\n",
    "                return\n",
    "            \n",
    "    \n",
    "    def printClusterText(self):\n",
    "        # Prints text of clusters\n",
    "        for k in self.clusters:\n",
    "            for ID in self.clusters[k]:\n",
    "                print (self.tweets[ID]['text'])\n",
    "            print ('\\n')\n",
    " \n",
    "    def printClusters(self):\n",
    "        # Prints cluster ID and tweet IDs for that cluster\n",
    "        for k in self.clusters:\n",
    "            print (str(k) + ':' + ','.join(map(str,self.clusters[k])))\n",
    "\n",
    "    def printMatrix(self):\n",
    "        # Prints jaccard distance matrix\n",
    "        for ID in self.tweets:\n",
    "            for ID2 in self.tweets:\n",
    "                print (ID, ID2, self.jaccardMatrix[ID][ID2])\n",
    "\n",
    "\n",
    "\n",
    "    kmeans = kMeans(3, tweets)\n",
    "    kmeans.converge()\n",
    "    #kmeans.printClusterText()\n",
    "    kmeans.printClusters()\n",
    "    \n",
    "\n"
   ]
  },
  {
   "cell_type": "code",
   "execution_count": null,
   "metadata": {},
   "outputs": [],
   "source": []
  },
  {
   "cell_type": "code",
   "execution_count": 22,
   "metadata": {},
   "outputs": [
    {
     "ename": "ValueError",
     "evalue": "Usecols do not match columns, columns expected but not found: ['lemma']",
     "output_type": "error",
     "traceback": [
      "\u001b[1;31m---------------------------------------------------------------------------\u001b[0m",
      "\u001b[1;31mValueError\u001b[0m                                Traceback (most recent call last)",
      "\u001b[1;32m<ipython-input-22-be669ffc825d>\u001b[0m in \u001b[0;36m<module>\u001b[1;34m\u001b[0m\n\u001b[0;32m    212\u001b[0m     \u001b[0mdata_url\u001b[0m \u001b[1;33m=\u001b[0m \u001b[1;34m'bdtweets1.csv'\u001b[0m\u001b[1;33m\u001b[0m\u001b[1;33m\u001b[0m\u001b[0m\n\u001b[0;32m    213\u001b[0m \u001b[1;33m\u001b[0m\u001b[0m\n\u001b[1;32m--> 214\u001b[1;33m     \u001b[0mtweets\u001b[0m \u001b[1;33m=\u001b[0m \u001b[0mtweets\u001b[0m \u001b[1;33m=\u001b[0m \u001b[0mpd\u001b[0m\u001b[1;33m.\u001b[0m\u001b[0mread_csv\u001b[0m\u001b[1;33m(\u001b[0m\u001b[1;34m\"bdtweets1.csv\"\u001b[0m\u001b[1;33m,\u001b[0m \u001b[0musecols\u001b[0m \u001b[1;33m=\u001b[0m \u001b[1;33m[\u001b[0m\u001b[1;34m'lemma'\u001b[0m\u001b[1;33m]\u001b[0m\u001b[1;33m)\u001b[0m\u001b[1;33m\u001b[0m\u001b[1;33m\u001b[0m\u001b[0m\n\u001b[0m\u001b[0;32m    215\u001b[0m \u001b[1;33m\u001b[0m\u001b[0m\n\u001b[0;32m    216\u001b[0m \u001b[1;33m\u001b[0m\u001b[0m\n",
      "\u001b[1;32m~\\anaconda3\\lib\\site-packages\\pandas\\io\\parsers.py\u001b[0m in \u001b[0;36mparser_f\u001b[1;34m(filepath_or_buffer, sep, delimiter, header, names, index_col, usecols, squeeze, prefix, mangle_dupe_cols, dtype, engine, converters, true_values, false_values, skipinitialspace, skiprows, skipfooter, nrows, na_values, keep_default_na, na_filter, verbose, skip_blank_lines, parse_dates, infer_datetime_format, keep_date_col, date_parser, dayfirst, cache_dates, iterator, chunksize, compression, thousands, decimal, lineterminator, quotechar, quoting, doublequote, escapechar, comment, encoding, dialect, error_bad_lines, warn_bad_lines, delim_whitespace, low_memory, memory_map, float_precision)\u001b[0m\n\u001b[0;32m    674\u001b[0m         )\n\u001b[0;32m    675\u001b[0m \u001b[1;33m\u001b[0m\u001b[0m\n\u001b[1;32m--> 676\u001b[1;33m         \u001b[1;32mreturn\u001b[0m \u001b[0m_read\u001b[0m\u001b[1;33m(\u001b[0m\u001b[0mfilepath_or_buffer\u001b[0m\u001b[1;33m,\u001b[0m \u001b[0mkwds\u001b[0m\u001b[1;33m)\u001b[0m\u001b[1;33m\u001b[0m\u001b[1;33m\u001b[0m\u001b[0m\n\u001b[0m\u001b[0;32m    677\u001b[0m \u001b[1;33m\u001b[0m\u001b[0m\n\u001b[0;32m    678\u001b[0m     \u001b[0mparser_f\u001b[0m\u001b[1;33m.\u001b[0m\u001b[0m__name__\u001b[0m \u001b[1;33m=\u001b[0m \u001b[0mname\u001b[0m\u001b[1;33m\u001b[0m\u001b[1;33m\u001b[0m\u001b[0m\n",
      "\u001b[1;32m~\\anaconda3\\lib\\site-packages\\pandas\\io\\parsers.py\u001b[0m in \u001b[0;36m_read\u001b[1;34m(filepath_or_buffer, kwds)\u001b[0m\n\u001b[0;32m    446\u001b[0m \u001b[1;33m\u001b[0m\u001b[0m\n\u001b[0;32m    447\u001b[0m     \u001b[1;31m# Create the parser.\u001b[0m\u001b[1;33m\u001b[0m\u001b[1;33m\u001b[0m\u001b[1;33m\u001b[0m\u001b[0m\n\u001b[1;32m--> 448\u001b[1;33m     \u001b[0mparser\u001b[0m \u001b[1;33m=\u001b[0m \u001b[0mTextFileReader\u001b[0m\u001b[1;33m(\u001b[0m\u001b[0mfp_or_buf\u001b[0m\u001b[1;33m,\u001b[0m \u001b[1;33m**\u001b[0m\u001b[0mkwds\u001b[0m\u001b[1;33m)\u001b[0m\u001b[1;33m\u001b[0m\u001b[1;33m\u001b[0m\u001b[0m\n\u001b[0m\u001b[0;32m    449\u001b[0m \u001b[1;33m\u001b[0m\u001b[0m\n\u001b[0;32m    450\u001b[0m     \u001b[1;32mif\u001b[0m \u001b[0mchunksize\u001b[0m \u001b[1;32mor\u001b[0m \u001b[0miterator\u001b[0m\u001b[1;33m:\u001b[0m\u001b[1;33m\u001b[0m\u001b[1;33m\u001b[0m\u001b[0m\n",
      "\u001b[1;32m~\\anaconda3\\lib\\site-packages\\pandas\\io\\parsers.py\u001b[0m in \u001b[0;36m__init__\u001b[1;34m(self, f, engine, **kwds)\u001b[0m\n\u001b[0;32m    878\u001b[0m             \u001b[0mself\u001b[0m\u001b[1;33m.\u001b[0m\u001b[0moptions\u001b[0m\u001b[1;33m[\u001b[0m\u001b[1;34m\"has_index_names\"\u001b[0m\u001b[1;33m]\u001b[0m \u001b[1;33m=\u001b[0m \u001b[0mkwds\u001b[0m\u001b[1;33m[\u001b[0m\u001b[1;34m\"has_index_names\"\u001b[0m\u001b[1;33m]\u001b[0m\u001b[1;33m\u001b[0m\u001b[1;33m\u001b[0m\u001b[0m\n\u001b[0;32m    879\u001b[0m \u001b[1;33m\u001b[0m\u001b[0m\n\u001b[1;32m--> 880\u001b[1;33m         \u001b[0mself\u001b[0m\u001b[1;33m.\u001b[0m\u001b[0m_make_engine\u001b[0m\u001b[1;33m(\u001b[0m\u001b[0mself\u001b[0m\u001b[1;33m.\u001b[0m\u001b[0mengine\u001b[0m\u001b[1;33m)\u001b[0m\u001b[1;33m\u001b[0m\u001b[1;33m\u001b[0m\u001b[0m\n\u001b[0m\u001b[0;32m    881\u001b[0m \u001b[1;33m\u001b[0m\u001b[0m\n\u001b[0;32m    882\u001b[0m     \u001b[1;32mdef\u001b[0m \u001b[0mclose\u001b[0m\u001b[1;33m(\u001b[0m\u001b[0mself\u001b[0m\u001b[1;33m)\u001b[0m\u001b[1;33m:\u001b[0m\u001b[1;33m\u001b[0m\u001b[1;33m\u001b[0m\u001b[0m\n",
      "\u001b[1;32m~\\anaconda3\\lib\\site-packages\\pandas\\io\\parsers.py\u001b[0m in \u001b[0;36m_make_engine\u001b[1;34m(self, engine)\u001b[0m\n\u001b[0;32m   1112\u001b[0m     \u001b[1;32mdef\u001b[0m \u001b[0m_make_engine\u001b[0m\u001b[1;33m(\u001b[0m\u001b[0mself\u001b[0m\u001b[1;33m,\u001b[0m \u001b[0mengine\u001b[0m\u001b[1;33m=\u001b[0m\u001b[1;34m\"c\"\u001b[0m\u001b[1;33m)\u001b[0m\u001b[1;33m:\u001b[0m\u001b[1;33m\u001b[0m\u001b[1;33m\u001b[0m\u001b[0m\n\u001b[0;32m   1113\u001b[0m         \u001b[1;32mif\u001b[0m \u001b[0mengine\u001b[0m \u001b[1;33m==\u001b[0m \u001b[1;34m\"c\"\u001b[0m\u001b[1;33m:\u001b[0m\u001b[1;33m\u001b[0m\u001b[1;33m\u001b[0m\u001b[0m\n\u001b[1;32m-> 1114\u001b[1;33m             \u001b[0mself\u001b[0m\u001b[1;33m.\u001b[0m\u001b[0m_engine\u001b[0m \u001b[1;33m=\u001b[0m \u001b[0mCParserWrapper\u001b[0m\u001b[1;33m(\u001b[0m\u001b[0mself\u001b[0m\u001b[1;33m.\u001b[0m\u001b[0mf\u001b[0m\u001b[1;33m,\u001b[0m \u001b[1;33m**\u001b[0m\u001b[0mself\u001b[0m\u001b[1;33m.\u001b[0m\u001b[0moptions\u001b[0m\u001b[1;33m)\u001b[0m\u001b[1;33m\u001b[0m\u001b[1;33m\u001b[0m\u001b[0m\n\u001b[0m\u001b[0;32m   1115\u001b[0m         \u001b[1;32melse\u001b[0m\u001b[1;33m:\u001b[0m\u001b[1;33m\u001b[0m\u001b[1;33m\u001b[0m\u001b[0m\n\u001b[0;32m   1116\u001b[0m             \u001b[1;32mif\u001b[0m \u001b[0mengine\u001b[0m \u001b[1;33m==\u001b[0m \u001b[1;34m\"python\"\u001b[0m\u001b[1;33m:\u001b[0m\u001b[1;33m\u001b[0m\u001b[1;33m\u001b[0m\u001b[0m\n",
      "\u001b[1;32m~\\anaconda3\\lib\\site-packages\\pandas\\io\\parsers.py\u001b[0m in \u001b[0;36m__init__\u001b[1;34m(self, src, **kwds)\u001b[0m\n\u001b[0;32m   1935\u001b[0m                 \u001b[0mself\u001b[0m\u001b[1;33m.\u001b[0m\u001b[0morig_names\u001b[0m\u001b[1;33m\u001b[0m\u001b[1;33m\u001b[0m\u001b[0m\n\u001b[0;32m   1936\u001b[0m             ):\n\u001b[1;32m-> 1937\u001b[1;33m                 \u001b[0m_validate_usecols_names\u001b[0m\u001b[1;33m(\u001b[0m\u001b[0musecols\u001b[0m\u001b[1;33m,\u001b[0m \u001b[0mself\u001b[0m\u001b[1;33m.\u001b[0m\u001b[0morig_names\u001b[0m\u001b[1;33m)\u001b[0m\u001b[1;33m\u001b[0m\u001b[1;33m\u001b[0m\u001b[0m\n\u001b[0m\u001b[0;32m   1938\u001b[0m \u001b[1;33m\u001b[0m\u001b[0m\n\u001b[0;32m   1939\u001b[0m             \u001b[1;32mif\u001b[0m \u001b[0mlen\u001b[0m\u001b[1;33m(\u001b[0m\u001b[0mself\u001b[0m\u001b[1;33m.\u001b[0m\u001b[0mnames\u001b[0m\u001b[1;33m)\u001b[0m \u001b[1;33m>\u001b[0m \u001b[0mlen\u001b[0m\u001b[1;33m(\u001b[0m\u001b[0musecols\u001b[0m\u001b[1;33m)\u001b[0m\u001b[1;33m:\u001b[0m\u001b[1;33m\u001b[0m\u001b[1;33m\u001b[0m\u001b[0m\n",
      "\u001b[1;32m~\\anaconda3\\lib\\site-packages\\pandas\\io\\parsers.py\u001b[0m in \u001b[0;36m_validate_usecols_names\u001b[1;34m(usecols, names)\u001b[0m\n\u001b[0;32m   1230\u001b[0m     \u001b[0mmissing\u001b[0m \u001b[1;33m=\u001b[0m \u001b[1;33m[\u001b[0m\u001b[0mc\u001b[0m \u001b[1;32mfor\u001b[0m \u001b[0mc\u001b[0m \u001b[1;32min\u001b[0m \u001b[0musecols\u001b[0m \u001b[1;32mif\u001b[0m \u001b[0mc\u001b[0m \u001b[1;32mnot\u001b[0m \u001b[1;32min\u001b[0m \u001b[0mnames\u001b[0m\u001b[1;33m]\u001b[0m\u001b[1;33m\u001b[0m\u001b[1;33m\u001b[0m\u001b[0m\n\u001b[0;32m   1231\u001b[0m     \u001b[1;32mif\u001b[0m \u001b[0mlen\u001b[0m\u001b[1;33m(\u001b[0m\u001b[0mmissing\u001b[0m\u001b[1;33m)\u001b[0m \u001b[1;33m>\u001b[0m \u001b[1;36m0\u001b[0m\u001b[1;33m:\u001b[0m\u001b[1;33m\u001b[0m\u001b[1;33m\u001b[0m\u001b[0m\n\u001b[1;32m-> 1232\u001b[1;33m         raise ValueError(\n\u001b[0m\u001b[0;32m   1233\u001b[0m             \u001b[1;34m\"Usecols do not match columns, \"\u001b[0m\u001b[1;33m\u001b[0m\u001b[1;33m\u001b[0m\u001b[0m\n\u001b[0;32m   1234\u001b[0m             \u001b[1;34mf\"columns expected but not found: {missing}\"\u001b[0m\u001b[1;33m\u001b[0m\u001b[1;33m\u001b[0m\u001b[0m\n",
      "\u001b[1;31mValueError\u001b[0m: Usecols do not match columns, columns expected but not found: ['lemma']"
     ]
    }
   ],
   "source": [
    "import random as rd\n",
    "import re\n",
    "import math\n",
    "import string\n",
    "\n",
    "\n",
    "def pre_process_tweets(url):\n",
    "\n",
    "    f = open(url, \"r\", encoding=\"utf8\")\n",
    "    tweets = list(f)\n",
    "    list_of_tweets = []\n",
    "\n",
    "    for i in range(len(tweets)):\n",
    "\n",
    "        # remove \\n from the end after every sentence\n",
    "        tweets[i] = tweets[i].strip('\\n')\n",
    "\n",
    "        # Remove the tweet id and timestamp\n",
    "        tweets[i] = tweets[i][50:]\n",
    "\n",
    "        # Remove any word that starts with the symbol @\n",
    "        tweets[i] = \" \".join(filter(lambda x: x[0] != '@', tweets[i].split()))\n",
    "\n",
    "        # Remove any URL\n",
    "        tweets[i] = re.sub(r\"http\\S+\", \"\", tweets[i])\n",
    "        tweets[i] = re.sub(r\"www\\S+\", \"\", tweets[i])\n",
    "\n",
    "        # remove colons from the end of the sentences (if any) after removing url\n",
    "        tweets[i] = tweets[i].strip()\n",
    "        tweet_len = len(tweets[i])\n",
    "        if tweet_len > 0:\n",
    "            if tweets[i][len(tweets[i]) - 1] == ':':\n",
    "                tweets[i] = tweets[i][:len(tweets[i]) - 1]\n",
    "\n",
    "        # Remove any hash-tags symbols\n",
    "        tweets[i] = tweets[i].replace('#', '')\n",
    "\n",
    "        # Convert every word to lowercase\n",
    "        tweets[i] = tweets[i].lower()\n",
    "\n",
    "        # remove punctuations\n",
    "        tweets[i] = tweets[i].translate(str.maketrans('', '', string.punctuation))\n",
    "\n",
    "        # trim extra spaces\n",
    "        tweets[i] = \" \".join(tweets[i].split())\n",
    "\n",
    "        # convert each tweet from string type to as list<string> using \" \" as a delimiter\n",
    "        list_of_tweets.append(tweets[i].split(' '))\n",
    "\n",
    "    f.close()\n",
    "\n",
    "    return list_of_tweets\n",
    "\n",
    "\n",
    "def k_means(tweets, k=4, max_iterations=50):\n",
    "\n",
    "    centroids = []\n",
    "\n",
    "    # initialization, assign random tweets as centroids\n",
    "    count = 0\n",
    "    hash_map = dict()\n",
    "    while count < k:\n",
    "        random_tweet_idx = rd.randint(0, len(tweets) - 1)\n",
    "        if random_tweet_idx not in hash_map:\n",
    "            count += 1\n",
    "            hash_map[random_tweet_idx] = True\n",
    "            centroids.append(tweets[random_tweet_idx])\n",
    "\n",
    "    iter_count = 0\n",
    "    prev_centroids = []\n",
    "\n",
    "    # run the iterations until not converged or until the max iteration in not reached\n",
    "    while (is_converged(prev_centroids, centroids)) == False and (iter_count < max_iterations):\n",
    "\n",
    "        print(\"running iteration \" + str(iter_count))\n",
    "\n",
    "        # assignment, assign tweets to the closest centroids\n",
    "        clusters = assign_cluster(tweets, centroids)\n",
    "\n",
    "        # to check if k-means converges, keep track of prev_centroids\n",
    "        prev_centroids = centroids\n",
    "\n",
    "        # update, update centroid based on clusters formed\n",
    "        centroids = update_centroids(clusters)\n",
    "        iter_count = iter_count + 1\n",
    "\n",
    "    if (iter_count == max_iterations):\n",
    "        print(\"max iterations reached, K means not converged\")\n",
    "    else:\n",
    "        print(\"converged\")\n",
    "\n",
    "    sse = compute_SSE(clusters)\n",
    "\n",
    "    return clusters, sse\n",
    "\n",
    "\n",
    "def is_converged(prev_centroid, new_centroids):\n",
    "\n",
    "    # false if lengths are not equal\n",
    "    if len(prev_centroid) != len(new_centroids):\n",
    "        return False\n",
    "\n",
    "    # iterate over each entry of clusters and check if they are same\n",
    "    for c in range(len(new_centroids)):\n",
    "        if \" \".join(new_centroids[c]) != \" \".join(prev_centroid[c]):\n",
    "            return False\n",
    "\n",
    "    return True\n",
    "\n",
    "\n",
    "def assign_cluster(tweets, centroids):\n",
    "\n",
    "    clusters = dict()\n",
    "\n",
    "    # for every tweet iterate each centroid and assign closest centroid to a it\n",
    "    for t in range(len(tweets)):\n",
    "        min_dis = math.inf\n",
    "        cluster_idx = -1;\n",
    "        for c in range(len(centroids)):\n",
    "            dis = getDistance(centroids[c], tweets[t])\n",
    "            # look for a closest centroid for a tweet\n",
    "\n",
    "            if centroids[c] == tweets[t]:\n",
    "                # print(\"tweet and centroid are equal with c: \" + str(c) + \", t\" + str(t))\n",
    "                cluster_idx = c\n",
    "                min_dis = 0\n",
    "                break\n",
    "\n",
    "            if dis < min_dis:\n",
    "                cluster_idx = c\n",
    "                min_dis = dis\n",
    "\n",
    "        # randomise the centroid assignment to a tweet if nothing is common\n",
    "        if min_dis == 1:\n",
    "            cluster_idx = rd.randint(0, len(centroids) - 1)\n",
    "\n",
    "        # assign the closest centroid to a tweet\n",
    "        clusters.setdefault(cluster_idx, []).append([tweets[t]])\n",
    "        # print(\"tweet t: \" + str(t) + \" is assigned to cluster c: \" + str(cluster_idx))\n",
    "        # add the tweet distance from its closest centroid to compute sse in the end\n",
    "        last_tweet_idx = len(clusters.setdefault(cluster_idx, [])) - 1\n",
    "        clusters.setdefault(cluster_idx, [])[last_tweet_idx].append(min_dis)\n",
    "\n",
    "    return clusters\n",
    "\n",
    "\n",
    "def update_centroids(clusters):\n",
    "\n",
    "    centroids = []\n",
    "\n",
    "    # iterate each cluster and check for a tweet with closest distance sum with all other tweets in the same cluster\n",
    "    # select that tweet as the centroid for the cluster\n",
    "    for c in range(len(clusters)):\n",
    "        min_dis_sum = math.inf\n",
    "        centroid_idx = -1\n",
    "\n",
    "        # to avoid redundant calculations\n",
    "        min_dis_dp = []\n",
    "\n",
    "        for t1 in range(len(clusters[c])):\n",
    "            min_dis_dp.append([])\n",
    "            dis_sum = 0\n",
    "            # get distances sum for every of tweet t1 with every tweet t2 in a same cluster\n",
    "            for t2 in range(len(clusters[c])):\n",
    "                if t1 != t2:\n",
    "                    if t2 < t1:\n",
    "                        dis = min_dis_dp[t2][t1]\n",
    "                    else:\n",
    "                        dis = getDistance(clusters[c][t1][0], clusters[c][t2][0])\n",
    "\n",
    "                    min_dis_dp[t1].append(dis)\n",
    "                    dis_sum += dis\n",
    "                else:\n",
    "                    min_dis_dp[t1].append(0)\n",
    "\n",
    "            # select the tweet with the minimum distances sum as the centroid for the cluster\n",
    "            if dis_sum < min_dis_sum:\n",
    "                min_dis_sum = dis_sum\n",
    "                centroid_idx = t1\n",
    "\n",
    "        # append the selected tweet to the centroid list\n",
    "        centroids.append(clusters[c][centroid_idx][0])\n",
    "\n",
    "    return centroids\n",
    "\n",
    "\n",
    "def getDistance(tweet1, tweet2):\n",
    "\n",
    "    # get the intersection\n",
    "    intersection = set(tweet1).intersection(tweet2)\n",
    "\n",
    "    # get the union\n",
    "    union = set().union(tweet1, tweet2)\n",
    "\n",
    "    # return the jaccard distance\n",
    "    return 1 - (len(intersection) / len(union))\n",
    "\n",
    "\n",
    "def compute_SSE(clusters):\n",
    "\n",
    "    sse = 0\n",
    "    # iterate every cluster 'c', compute SSE as the sum of square of distances of the tweet from it's centroid\n",
    "    for c in range(len(clusters)):\n",
    "        for t in range(len(clusters[c])):\n",
    "            sse = sse + (clusters[c][t][1] * clusters[c][t][1])\n",
    "\n",
    "    return sse\n",
    "\n",
    "\n",
    "if __name__ == '__main__':\n",
    "\n",
    "    data_url = 'bdtweets1.csv'\n",
    "\n",
    "    tweets = tweets = pd.read_csv(\"bdtweets1.csv\", usecols = ['lemma'])\n",
    "\n",
    "\n",
    "    # default number of experiments to be performed\n",
    "    experiments = 2\n",
    "\n",
    "    # default value of K for K-means\n",
    "    k = 3\n",
    "\n",
    "    # for every experiment 'e', run K-means\n",
    "    for e in range(experiments):\n",
    "\n",
    "        print(\"------ Running K means for experiment no. \" + str((e + 1)) + \" for k = \" + str(k))\n",
    "\n",
    "        clusters, sse = k_means(tweets, k)\n",
    "\n",
    "        # for every cluster 'c', print size of each cluster\n",
    "        for c in range(len(clusters)):\n",
    "            print(str(c+1) + \": \", str(len(clusters[c])) + \" tweets\")\n",
    "             # to print tweets in a cluster\n",
    "            for t in range(len(clusters[c])):\n",
    "                print(\"t\" + str(t) + \", \" + (\" \".join(clusters[c][t][0])))\n",
    "\n",
    "        print(\"--> SSE : \" + str(sse))\n",
    "        print('\\n')\n",
    "\n",
    "         #increment k after every experiment\n",
    "        k = k + 1"
   ]
  },
  {
   "cell_type": "code",
   "execution_count": null,
   "metadata": {},
   "outputs": [],
   "source": []
  },
  {
   "cell_type": "code",
   "execution_count": 38,
   "metadata": {},
   "outputs": [
    {
     "name": "stdout",
     "output_type": "stream",
     "text": [
      "0.0\n"
     ]
    }
   ],
   "source": [
    "from __future__ import division\n",
    "\n",
    "class Jaccard:\n",
    "\n",
    "\tdef  __init__(self,args,args_ii):\n",
    "\t\tself.args = self.tokenize(args)\n",
    "\t\tself.args_ii = self.tokenize(args_ii)\n",
    "\n",
    "\tdef intersect(self):\n",
    "\t\treturn [i for i in self.args if i in self.args_ii]\n",
    "\n",
    "\tdef union(self):\n",
    "\t\treturn set(self.args + self.args_ii)\n",
    "\n",
    "\tdef similarity(self):\n",
    "\t\tintersect = len(self.intersect())\n",
    "\t\tunion = len(self.union())\n",
    "\t\tif intersect == None and union == None:\n",
    "\t\t\treturn 1\n",
    "\t\treturn intersect / union\n",
    "\n",
    "\tdef distance(self):\n",
    "\t\treturn 1 - self.similarity()\n",
    "\n",
    "\tdef tokenize(self,item):\n",
    "\t\titem = item.lower()\n",
    "\t\treturn item.split(\" \")\n",
    "\n",
    "jaccard = Jaccard(\"tweets[text][88]\",\"tweets[text][12520]\")\n",
    "\n",
    "similarity = jaccard.similarity()\n",
    "print (similarity)"
   ]
  },
  {
   "cell_type": "code",
   "execution_count": 42,
   "metadata": {},
   "outputs": [
    {
     "name": "stdout",
     "output_type": "stream",
     "text": [
      "Error : Please enter files in this format <json file> <InitialSeeds file> <outputfile.txt>\n"
     ]
    },
    {
     "ename": "NameError",
     "evalue": "name 'live_tweets1' is not defined",
     "output_type": "error",
     "traceback": [
      "\u001b[1;31m---------------------------------------------------------------------------\u001b[0m",
      "\u001b[1;31mNameError\u001b[0m                                 Traceback (most recent call last)",
      "\u001b[1;32m<ipython-input-42-a5f45ee44a44>\u001b[0m in \u001b[0;36m<module>\u001b[1;34m\u001b[0m\n\u001b[0;32m    155\u001b[0m     \u001b[0mexit\u001b[0m\u001b[1;33m(\u001b[0m\u001b[1;33m-\u001b[0m\u001b[1;36m1\u001b[0m\u001b[1;33m)\u001b[0m\u001b[1;33m\u001b[0m\u001b[1;33m\u001b[0m\u001b[0m\n\u001b[0;32m    156\u001b[0m \u001b[1;31m# initialize code and load data\u001b[0m\u001b[1;33m\u001b[0m\u001b[1;33m\u001b[0m\u001b[1;33m\u001b[0m\u001b[0m\n\u001b[1;32m--> 157\u001b[1;33m \u001b[0mTC\u001b[0m \u001b[1;33m=\u001b[0m \u001b[0mTweetClusering\u001b[0m\u001b[1;33m(\u001b[0m\u001b[0mlive_tweets1\u001b[0m\u001b[1;33m.\u001b[0m\u001b[0mjson\u001b[0m\u001b[1;33m,\u001b[0m \u001b[0msys\u001b[0m\u001b[1;33m.\u001b[0m\u001b[0margv\u001b[0m\u001b[1;33m[\u001b[0m\u001b[1;36m2\u001b[0m\u001b[1;33m]\u001b[0m\u001b[1;33m,\u001b[0m\u001b[1;36m1000\u001b[0m\u001b[1;33m)\u001b[0m\u001b[1;33m\u001b[0m\u001b[1;33m\u001b[0m\u001b[0m\n\u001b[0m\u001b[0;32m    158\u001b[0m \u001b[1;31m# Create clusters based on initial seeds\u001b[0m\u001b[1;33m\u001b[0m\u001b[1;33m\u001b[0m\u001b[1;33m\u001b[0m\u001b[0m\n\u001b[0;32m    159\u001b[0m \u001b[0mTC\u001b[0m\u001b[1;33m.\u001b[0m\u001b[0mCreate_Clusters\u001b[0m\u001b[1;33m(\u001b[0m\u001b[1;33m)\u001b[0m\u001b[1;33m\u001b[0m\u001b[1;33m\u001b[0m\u001b[0m\n",
      "\u001b[1;31mNameError\u001b[0m: name 'live_tweets1' is not defined"
     ]
    }
   ],
   "source": [
    "import sys\n",
    "import json\n",
    "import re, string\n",
    "import copy\n",
    "from nltk.corpus import stopwords\n",
    "\n",
    "regex = re.compile('[%s]' % re.escape(string.punctuation))\n",
    "StopWord = stopwords.words('english')\n",
    "\n",
    "\n",
    "class TweetClusering():\n",
    "    def __init__(self, JsoneFile, InitialSeedsFile,iterations):\n",
    "\n",
    "        tweets_ID = {}\n",
    "        with open(JsoneFile, 'r') as f:\n",
    "            for line in f:\n",
    "                tweet = json.loads(line)\n",
    "                tweets_ID[tweet['id']] = tweet\n",
    "\n",
    "        f = open(InitialSeedsFile)\n",
    "        InitialSeeds = [int(line.rstrip(',\\n')) for line in f.readlines()]\n",
    "        f.close()\n",
    "\n",
    "        self.InitialSeeds = InitialSeeds\n",
    "        self.tweets_ID = tweets_ID\n",
    "        self.max_iterations = iterations\n",
    "        self.k = len(InitialSeeds)\n",
    "        self.clusters = {}  # cluster to tweetID\n",
    "        self.rev_clusters = {}  # reverse index, tweetID to cluster\n",
    "        self.JC_MAT = {}  # stores pairwise jaccard distance in a matrix\n",
    "\n",
    "    def jaccardDistance(self, setA, setB):\n",
    "        # Calcualtes the Jaccard Distance of two sets\n",
    "        return 1 - float(len(setA.intersection(setB))) / float(len(setA.union(setB)))\n",
    "\n",
    "    def Dictionary(self, string):\n",
    "        # Returns a bag of words from a given string\n",
    "        # Space delimited, removes punctuation, lowercase\n",
    "        # Cleans text from url, stop words, tweet @, and 'rt'\n",
    "        words = string.lower().strip().split(' ')\n",
    "        for word in words:\n",
    "            word = word.rstrip().lstrip()\n",
    "            if not re.match(r'^https?:\\/\\/.*[\\r\\n]*', word) \\\n",
    "                    and not re.match('^@.*', word) \\\n",
    "                    and not re.match('\\s', word) \\\n",
    "                    and word not in StopWord \\\n",
    "                    and word != 'rt' \\\n",
    "                    and word != '':\n",
    "                yield regex.sub('', word)\n",
    "\n",
    "    def Create_Matrix(self):\n",
    "        # Dynamic Programming: creates matrix storing pairwise jaccard distances\n",
    "        for ID1 in self.tweets_ID:\n",
    "            self.JC_MAT[ID1] = {}\n",
    "            TW1 = set(self.Dictionary(self.tweets_ID[ID1]['text']))\n",
    "            for ID2 in self.tweets_ID:\n",
    "                if ID2 not in self.JC_MAT:\n",
    "                    self.JC_MAT[ID2] = {}\n",
    "                TW2 = set(self.Dictionary(self.tweets_ID[ID2]['text']))\n",
    "                distance = self.jaccardDistance(TW1, TW2)\n",
    "                self.JC_MAT[ID1][ID2] = distance\n",
    "                self.JC_MAT[ID2][ID1] = distance\n",
    "\n",
    "    def Create_Clusters(self):\n",
    "        # Initialize tweets_ID to no cluster\n",
    "        for ID in self.tweets_ID:\n",
    "            self.rev_clusters[ID] = -1\n",
    "\n",
    "        # Initialize clusters with InitialSeeds\n",
    "        for k in range(self.k):\n",
    "            self.clusters[k] = set([self.InitialSeeds[k]])\n",
    "            self.rev_clusters[self.InitialSeeds[k]] = k\n",
    "\n",
    "    def calcNewClusters(self):\n",
    "        # Initialize new cluster\n",
    "        new_clusters = {}\n",
    "        new_rev_cluster = {}\n",
    "        for k in range(self.k):\n",
    "            new_clusters[k] = set()\n",
    "\n",
    "        for ID in self.tweets_ID:\n",
    "            min_dist = float(\"inf\")\n",
    "            min_cluster = self.rev_clusters[ID]\n",
    "\n",
    "            # Calculate min average distance to each cluster\n",
    "            for k in self.clusters:\n",
    "                dist = 0\n",
    "                count = 0\n",
    "                for ID2 in self.clusters[k]:\n",
    "                    dist += self.JC_MAT[ID][ID2]\n",
    "                    count += 1\n",
    "                if count > 0:\n",
    "                    avg_dist = dist / float(count)\n",
    "                    if min_dist > avg_dist:\n",
    "                        min_dist = avg_dist\n",
    "                        min_cluster = k\n",
    "            new_clusters[min_cluster].add(ID)\n",
    "            new_rev_cluster[ID] = min_cluster\n",
    "        return new_clusters, new_rev_cluster\n",
    "\n",
    "    def optimize(self):\n",
    "        # Initialize previous cluster to compare changes with new clustering\n",
    "        new_clusters, new_rev_clusters = self.calcNewClusters()\n",
    "        self.clusters = copy.deepcopy(new_clusters)\n",
    "        self.rev_clusters = copy.deepcopy(new_rev_clusters)\n",
    "\n",
    "        # Converges until old and new iterations are the same\n",
    "        iterations = 1\n",
    "        while iterations < self.max_iterations:\n",
    "            new_clusters, new_rev_clusters = self.calcNewClusters()\n",
    "            iterations += 1\n",
    "            if self.rev_clusters != new_rev_clusters:\n",
    "                self.clusters = copy.deepcopy(new_clusters)\n",
    "                self.rev_clusters = copy.deepcopy(new_rev_clusters)\n",
    "            else:\n",
    "                return\n",
    "\n",
    "    def calc_SSE(self):\n",
    "        self.SSE = []\n",
    "        for cluster in self.clusters:\n",
    "            error = 0\n",
    "            for ID1 in self.clusters[cluster]:\n",
    "                error += (self.JC_MAT[self.InitialSeeds[cluster]][ID1])\n",
    "            self.SSE.append(error)\n",
    "\n",
    "    def printClusters(self,out_file):\n",
    "        # Prints cluster ID and tweet IDs for that cluster\n",
    "        file = open(out_file, 'w+')\n",
    "        file.write('CS6375.004 - Machine Learning: Assignment-6 : Part II - Tweets Clustering using k-means \\n\\n')\n",
    "        K_clusters=[]\n",
    "        for k in self.clusters:\n",
    "            K_clusters.append(str(k+1) + ':' + ','.join(map(str, self.clusters[k])))\n",
    "            #print(str(k+1) + ' : ' + ','.join(map(str, self.clusters[k])))\n",
    "            file.write('Cluster '+ str(k+1) + ' : ' + ', '.join(map(str, self.clusters[k])))\n",
    "            file.write(\"\\n\")\n",
    "\n",
    "        '''\n",
    "        print(\"======================================================\")\n",
    "        for cluster in self.clusters:\n",
    "            print('For cluster '+str(cluster+1) + ' : SSE = ' + str(round(self.SSE[cluster], 3)))\n",
    "        '''\n",
    "        TotalSSE = sum(self.SSE)\n",
    "        print(\"======================================================\")\n",
    "        print(\"Validation SSE = %3.4f\"%TotalSSE)\n",
    "        print('\\nResults are available in output file')\n",
    "        file.write(\"======================================================\")\n",
    "        file.write(\"\\n\")\n",
    "        file.write(\"Number of Clusters = %d\" % len(self.SSE))\n",
    "        file.write(\"\\n\")\n",
    "        file.write(\"Validation SSE = %3.4f\" % TotalSSE)\n",
    "\n",
    "# the main part starts from here\n",
    "if len(sys.argv) != 4:\n",
    "    print(\"Error : Please enter files in this format <json file> <InitialSeeds file> <outputfile.txt>\")\n",
    "    exit(-1)\n",
    "# initialize code and load data\n",
    "TC = TweetClusering(live_tweets1.json, sys.argv[2],1000)\n",
    "# Create clusters based on initial seeds\n",
    "TC.Create_Clusters()\n",
    "# create distance matrix using Jaccard distance\n",
    "TC.Create_Matrix()\n",
    "# optimize to find the best clusters\n",
    "TC.optimize()\n",
    "# calculate SSE\n",
    "TC.calc_SSE()\n",
    "# show and save results in the given text files\n",
    "TC.printClusters(sys.argv[3])"
   ]
  },
  {
   "cell_type": "code",
   "execution_count": null,
   "metadata": {},
   "outputs": [],
   "source": [
    "import json,sys\n",
    "\n",
    "# Reading json file in a dictionary\n",
    "def getTweets(tweetsJsonFile):\n",
    "    tweets = {}\n",
    "    with open(tweetsJsonFile) as json_data:\n",
    "        for line in json_data:\n",
    "            tweet = json.loads(line)\n",
    "            tweets[str(tweet[\"id\"])] = tweet[\"text\"]\n",
    "            print(tweets)\n",
    "    return tweets\n",
    "test= "
   ]
  },
  {
   "cell_type": "code",
   "execution_count": 7,
   "metadata": {},
   "outputs": [],
   "source": [
    "from math import*\n",
    "def jaccard_similarity(text,text1):\n",
    "    intersection_cardinality = len(set.intersection(*[set(text1), set(text2)]))\n",
    "    union_cardinality = len(set.union(*[set(text1), set(text2)]))\n",
    "    return intersection_cardinality/float(union_cardinality)\n"
   ]
  },
  {
   "cell_type": "code",
   "execution_count": 28,
   "metadata": {},
   "outputs": [
    {
     "data": {
      "text/plain": [
       "0.05263157894736842"
      ]
     },
     "execution_count": 28,
     "metadata": {},
     "output_type": "execute_result"
    }
   ],
   "source": [
    "jaccard_similarity(tweets['lemma'][1],tweets['lemma'][2])"
   ]
  },
  {
   "cell_type": "code",
   "execution_count": 30,
   "metadata": {},
   "outputs": [
    {
     "data": {
      "text/plain": [
       "0.1"
      ]
     },
     "execution_count": 30,
     "metadata": {},
     "output_type": "execute_result"
    }
   ],
   "source": [
    "jaccard_similarity(tweets['lemma'][1][0],tweets['lemma'][1][2])"
   ]
  },
  {
   "cell_type": "code",
   "execution_count": 32,
   "metadata": {},
   "outputs": [
    {
     "data": {
      "text/plain": [
       "'health'"
      ]
     },
     "execution_count": 32,
     "metadata": {},
     "output_type": "execute_result"
    }
   ],
   "source": [
    "tweets['lemma'][1][0]\n"
   ]
  },
  {
   "cell_type": "code",
   "execution_count": 33,
   "metadata": {},
   "outputs": [
    {
     "data": {
      "text/plain": [
       "'servic'"
      ]
     },
     "execution_count": 33,
     "metadata": {},
     "output_type": "execute_result"
    }
   ],
   "source": [
    "tweets['lemma'][1][2]"
   ]
  },
  {
   "cell_type": "code",
   "execution_count": 17,
   "metadata": {},
   "outputs": [],
   "source": [
    "from collection import counter\n",
    "\n",
    "def intersection(tweetdata_one, tweetdata_two): #function count intersection between two words\n",
    "    result_intesection = 0\n",
    "    for word in tweetdata_one:\n",
    "        while tweetdata_one[word] != 0 and word in tweetdata_two:\n",
    "            if word in tweetdata_two:\n",
    "                tweetdata_two[word] = tweetdata_two[word] - 1\n",
    "                tweetdata_one[word] = tweetdata_one[word] - 1\n",
    "                if tweetdata_two[word] == 0:\n",
    "                    tweetdata_two.pop(word, None)\n",
    "                result_intesection += 1\n",
    "    return result_intesection\n",
    "\n",
    "def union(tweetdata_one, tweetdata_two): #function count union of two words\n",
    "    result_union = 0\n",
    "    for word in tweetdata_one:\n",
    "        if word in tweetdata_two:\n",
    "            result_union = result_union + max(tweetdata_one[word], tweetdata_two[word])\n",
    "            tweetdata_two.pop(word, None)\n",
    "        else:\n",
    "            result_union = result_union + tweetdata_one[word]\n",
    "    for word in tweetdata_two:\n",
    "        result_union = result_union + tweetdata_two[word]\n",
    "    return result_union\n",
    "\n",
    "\n",
    "\n",
    "\n",
    "def jaccard_distance(tweetDataOne, tweetDataTwo):\n",
    "    tweetDataOne_count = countWords(tweetDataOne)\n",
    "    tweetDataTwo_count = countWords(tweetDataTwo)\n",
    "    tweetdata_union = union(dict(tweetDataOne_count), dict(tweetDataTwo_count))\n",
    "    tweetdata_intersect = intersection(dict(tweetDataOne_count), dict(tweetDataTwo_count))\n",
    "    return 1.0 - tweetdata_intersect * 1.0 / tweetdata_union\n",
    "\n"
   ]
  },
  {
   "cell_type": "code",
   "execution_count": 21,
   "metadata": {},
   "outputs": [
    {
     "ename": "NameError",
     "evalue": "name 'countWords' is not defined",
     "output_type": "error",
     "traceback": [
      "\u001b[1;31m---------------------------------------------------------------------------\u001b[0m",
      "\u001b[1;31mNameError\u001b[0m                                 Traceback (most recent call last)",
      "\u001b[1;32m<ipython-input-21-836d4eef6272>\u001b[0m in \u001b[0;36m<module>\u001b[1;34m\u001b[0m\n\u001b[1;32m----> 1\u001b[1;33m \u001b[0mjaccard_distance\u001b[0m\u001b[1;33m(\u001b[0m\u001b[0mtweets\u001b[0m\u001b[1;33m[\u001b[0m\u001b[1;34m'lemma'\u001b[0m\u001b[1;33m]\u001b[0m\u001b[1;33m[\u001b[0m\u001b[1;36m0\u001b[0m\u001b[1;33m]\u001b[0m\u001b[1;33m,\u001b[0m\u001b[0mtweets\u001b[0m\u001b[1;33m[\u001b[0m\u001b[1;34m'lemma'\u001b[0m\u001b[1;33m]\u001b[0m\u001b[1;33m[\u001b[0m\u001b[1;36m1\u001b[0m\u001b[1;33m]\u001b[0m\u001b[1;33m)\u001b[0m\u001b[1;33m\u001b[0m\u001b[1;33m\u001b[0m\u001b[0m\n\u001b[0m",
      "\u001b[1;32m<ipython-input-17-c4e1badd16cf>\u001b[0m in \u001b[0;36mjaccard_distance\u001b[1;34m(tweetDataOne, tweetDataTwo)\u001b[0m\n\u001b[0;32m     27\u001b[0m \u001b[1;33m\u001b[0m\u001b[0m\n\u001b[0;32m     28\u001b[0m \u001b[1;32mdef\u001b[0m \u001b[0mjaccard_distance\u001b[0m\u001b[1;33m(\u001b[0m\u001b[0mtweetDataOne\u001b[0m\u001b[1;33m,\u001b[0m \u001b[0mtweetDataTwo\u001b[0m\u001b[1;33m)\u001b[0m\u001b[1;33m:\u001b[0m\u001b[1;33m\u001b[0m\u001b[1;33m\u001b[0m\u001b[0m\n\u001b[1;32m---> 29\u001b[1;33m     \u001b[0mtweetDataOne_count\u001b[0m \u001b[1;33m=\u001b[0m \u001b[0mcountWords\u001b[0m\u001b[1;33m(\u001b[0m\u001b[0mtweetDataOne\u001b[0m\u001b[1;33m)\u001b[0m\u001b[1;33m\u001b[0m\u001b[1;33m\u001b[0m\u001b[0m\n\u001b[0m\u001b[0;32m     30\u001b[0m     \u001b[0mtweetDataTwo_count\u001b[0m \u001b[1;33m=\u001b[0m \u001b[0mcountWords\u001b[0m\u001b[1;33m(\u001b[0m\u001b[0mtweetDataTwo\u001b[0m\u001b[1;33m)\u001b[0m\u001b[1;33m\u001b[0m\u001b[1;33m\u001b[0m\u001b[0m\n\u001b[0;32m     31\u001b[0m     \u001b[0mtweetdata_union\u001b[0m \u001b[1;33m=\u001b[0m \u001b[0munion\u001b[0m\u001b[1;33m(\u001b[0m\u001b[0mdict\u001b[0m\u001b[1;33m(\u001b[0m\u001b[0mtweetDataOne_count\u001b[0m\u001b[1;33m)\u001b[0m\u001b[1;33m,\u001b[0m \u001b[0mdict\u001b[0m\u001b[1;33m(\u001b[0m\u001b[0mtweetDataTwo_count\u001b[0m\u001b[1;33m)\u001b[0m\u001b[1;33m)\u001b[0m\u001b[1;33m\u001b[0m\u001b[1;33m\u001b[0m\u001b[0m\n",
      "\u001b[1;31mNameError\u001b[0m: name 'countWords' is not defined"
     ]
    }
   ],
   "source": [
    "jaccard_distance(tweets['lemma'][0],tweets['lemma'][1])"
   ]
  },
  {
   "cell_type": "code",
   "execution_count": 31,
   "metadata": {},
   "outputs": [],
   "source": [
    " def jaccardDistance(setA, setB):\n",
    "        # Calcualtes the Jaccard Distance of two sets\n",
    "        try:\n",
    "            return 1 - float(len(setA.intersection(setB))) / float(len(setA.union(setB)))\n",
    "        except TypeError:\n",
    "            print ('Invalid type. Type set expected.')"
   ]
  },
  {
   "cell_type": "code",
   "execution_count": 32,
   "metadata": {},
   "outputs": [
    {
     "data": {
      "text/plain": [
       "1.0"
      ]
     },
     "execution_count": 32,
     "metadata": {},
     "output_type": "execute_result"
    }
   ],
   "source": [
    "\n",
    "\n",
    "jaccardDistance(set(tweets['lemma'][0]), set(tweets['lemma'][1]))"
   ]
  },
  {
   "cell_type": "code",
   "execution_count": 35,
   "metadata": {},
   "outputs": [
    {
     "data": {
      "text/plain": [
       "['great', 'anoth', 'go', 'busi', 'sale']"
      ]
     },
     "execution_count": 35,
     "metadata": {},
     "output_type": "execute_result"
    }
   ],
   "source": [
    "tweets['lemma'][0]"
   ]
  },
  {
   "cell_type": "code",
   "execution_count": 45,
   "metadata": {},
   "outputs": [
    {
     "ename": "ValueError",
     "evalue": "setting an array element with a sequence.",
     "output_type": "error",
     "traceback": [
      "\u001b[1;31m---------------------------------------------------------------------------\u001b[0m",
      "\u001b[1;31mTypeError\u001b[0m                                 Traceback (most recent call last)",
      "\u001b[1;31mTypeError\u001b[0m: float() argument must be a string or a number, not 'list'",
      "\nThe above exception was the direct cause of the following exception:\n",
      "\u001b[1;31mValueError\u001b[0m                                Traceback (most recent call last)",
      "\u001b[1;32m<ipython-input-45-6a7ea690cc57>\u001b[0m in \u001b[0;36m<module>\u001b[1;34m\u001b[0m\n\u001b[0;32m     14\u001b[0m \u001b[1;33m\u001b[0m\u001b[0m\n\u001b[0;32m     15\u001b[0m \u001b[1;31m# learning the clustering from the input date\u001b[0m\u001b[1;33m\u001b[0m\u001b[1;33m\u001b[0m\u001b[1;33m\u001b[0m\u001b[0m\n\u001b[1;32m---> 16\u001b[1;33m \u001b[0mkmeans\u001b[0m\u001b[1;33m.\u001b[0m\u001b[0mfit\u001b[0m\u001b[1;33m(\u001b[0m\u001b[0mtweets\u001b[0m\u001b[1;33m[\u001b[0m\u001b[1;34m'lemma'\u001b[0m\u001b[1;33m]\u001b[0m\u001b[1;33m.\u001b[0m\u001b[0mvalues\u001b[0m\u001b[1;33m)\u001b[0m\u001b[1;33m\u001b[0m\u001b[1;33m\u001b[0m\u001b[0m\n\u001b[0m\u001b[0;32m     17\u001b[0m \u001b[1;33m\u001b[0m\u001b[0m\n\u001b[0;32m     18\u001b[0m \u001b[1;33m\u001b[0m\u001b[0m\n",
      "\u001b[1;32m~\\anaconda3\\lib\\site-packages\\sklearn\\cluster\\_k_means.py\u001b[0m in \u001b[0;36mfit\u001b[1;34m(self, X, y, sample_weight)\u001b[0m\n\u001b[0;32m    855\u001b[0m         \u001b[1;31m# avoid forcing order when copy_x=False\u001b[0m\u001b[1;33m\u001b[0m\u001b[1;33m\u001b[0m\u001b[1;33m\u001b[0m\u001b[0m\n\u001b[0;32m    856\u001b[0m         \u001b[0morder\u001b[0m \u001b[1;33m=\u001b[0m \u001b[1;34m\"C\"\u001b[0m \u001b[1;32mif\u001b[0m \u001b[0mself\u001b[0m\u001b[1;33m.\u001b[0m\u001b[0mcopy_x\u001b[0m \u001b[1;32melse\u001b[0m \u001b[1;32mNone\u001b[0m\u001b[1;33m\u001b[0m\u001b[1;33m\u001b[0m\u001b[0m\n\u001b[1;32m--> 857\u001b[1;33m         X = check_array(X, accept_sparse='csr', dtype=[np.float64, np.float32],\n\u001b[0m\u001b[0;32m    858\u001b[0m                         order=order, copy=self.copy_x)\n\u001b[0;32m    859\u001b[0m         \u001b[1;31m# verify that the number of samples given is larger than k\u001b[0m\u001b[1;33m\u001b[0m\u001b[1;33m\u001b[0m\u001b[1;33m\u001b[0m\u001b[0m\n",
      "\u001b[1;32m~\\anaconda3\\lib\\site-packages\\sklearn\\utils\\validation.py\u001b[0m in \u001b[0;36mcheck_array\u001b[1;34m(array, accept_sparse, accept_large_sparse, dtype, order, copy, force_all_finite, ensure_2d, allow_nd, ensure_min_samples, ensure_min_features, warn_on_dtype, estimator)\u001b[0m\n\u001b[0;32m    513\u001b[0m                     \u001b[0marray\u001b[0m \u001b[1;33m=\u001b[0m \u001b[0marray\u001b[0m\u001b[1;33m.\u001b[0m\u001b[0mastype\u001b[0m\u001b[1;33m(\u001b[0m\u001b[0mdtype\u001b[0m\u001b[1;33m,\u001b[0m \u001b[0mcasting\u001b[0m\u001b[1;33m=\u001b[0m\u001b[1;34m\"unsafe\"\u001b[0m\u001b[1;33m,\u001b[0m \u001b[0mcopy\u001b[0m\u001b[1;33m=\u001b[0m\u001b[1;32mFalse\u001b[0m\u001b[1;33m)\u001b[0m\u001b[1;33m\u001b[0m\u001b[1;33m\u001b[0m\u001b[0m\n\u001b[0;32m    514\u001b[0m                 \u001b[1;32melse\u001b[0m\u001b[1;33m:\u001b[0m\u001b[1;33m\u001b[0m\u001b[1;33m\u001b[0m\u001b[0m\n\u001b[1;32m--> 515\u001b[1;33m                     \u001b[0marray\u001b[0m \u001b[1;33m=\u001b[0m \u001b[0mnp\u001b[0m\u001b[1;33m.\u001b[0m\u001b[0masarray\u001b[0m\u001b[1;33m(\u001b[0m\u001b[0marray\u001b[0m\u001b[1;33m,\u001b[0m \u001b[0morder\u001b[0m\u001b[1;33m=\u001b[0m\u001b[0morder\u001b[0m\u001b[1;33m,\u001b[0m \u001b[0mdtype\u001b[0m\u001b[1;33m=\u001b[0m\u001b[0mdtype\u001b[0m\u001b[1;33m)\u001b[0m\u001b[1;33m\u001b[0m\u001b[1;33m\u001b[0m\u001b[0m\n\u001b[0m\u001b[0;32m    516\u001b[0m             \u001b[1;32mexcept\u001b[0m \u001b[0mComplexWarning\u001b[0m\u001b[1;33m:\u001b[0m\u001b[1;33m\u001b[0m\u001b[1;33m\u001b[0m\u001b[0m\n\u001b[0;32m    517\u001b[0m                 raise ValueError(\"Complex data not supported\\n\"\n",
      "\u001b[1;32m~\\anaconda3\\lib\\site-packages\\numpy\\core\\_asarray.py\u001b[0m in \u001b[0;36masarray\u001b[1;34m(a, dtype, order)\u001b[0m\n\u001b[0;32m     83\u001b[0m \u001b[1;33m\u001b[0m\u001b[0m\n\u001b[0;32m     84\u001b[0m     \"\"\"\n\u001b[1;32m---> 85\u001b[1;33m     \u001b[1;32mreturn\u001b[0m \u001b[0marray\u001b[0m\u001b[1;33m(\u001b[0m\u001b[0ma\u001b[0m\u001b[1;33m,\u001b[0m \u001b[0mdtype\u001b[0m\u001b[1;33m,\u001b[0m \u001b[0mcopy\u001b[0m\u001b[1;33m=\u001b[0m\u001b[1;32mFalse\u001b[0m\u001b[1;33m,\u001b[0m \u001b[0morder\u001b[0m\u001b[1;33m=\u001b[0m\u001b[0morder\u001b[0m\u001b[1;33m)\u001b[0m\u001b[1;33m\u001b[0m\u001b[1;33m\u001b[0m\u001b[0m\n\u001b[0m\u001b[0;32m     86\u001b[0m \u001b[1;33m\u001b[0m\u001b[0m\n\u001b[0;32m     87\u001b[0m \u001b[1;33m\u001b[0m\u001b[0m\n",
      "\u001b[1;31mValueError\u001b[0m: setting an array element with a sequence."
     ]
    }
   ],
   "source": [
    "from sklearn.cluster import KMeans\n",
    "import pandas as pd\n",
    "import numpy as np\n",
    "import pickle\n",
    "\n",
    "\n",
    "# read csv input file\n",
    "# input_data = pd.read_csv(\"input_data.txt\", sep=\"\\t\")\n",
    "\n",
    "\n",
    "# initialize KMeans object specifying the number of desired clusters\n",
    "kmeans = KMeans(n_clusters=4)\n",
    "\n",
    "\n",
    "# learning the clustering from the input date\n",
    "kmeans.fit(tweets['lemma'].values)\n",
    "\n",
    "\n",
    "# output the labels for the input data\n",
    "print(kmeans.labels_)\n",
    "\n",
    "\n",
    "# predict the classification for given data sample \n",
    "# predicted_class = kmeans.predict([[1, 10, 15]])\n",
    "# print(predicted_class)"
   ]
  },
  {
   "cell_type": "code",
   "execution_count": 30,
   "metadata": {},
   "outputs": [
    {
     "name": "stdout",
     "output_type": "stream",
     "text": [
      "0.8846341176535043\n"
     ]
    }
   ],
   "source": [
    "import random\n",
    "\n",
    "random.seed(444447777)\n",
    "print(random.random())"
   ]
  },
  {
   "cell_type": "code",
   "execution_count": null,
   "metadata": {},
   "outputs": [],
   "source": [
    "\n",
    "import sys\n",
    "import json\n",
    "import re, string\n",
    "import copy\n",
    "from nltk.corpus import stopwords\n",
    "\n",
    "regex = re.compile('[%s]' % re.escape(string.punctuation))\n",
    "cachedStopWords = stopwords.words('english')\n",
    "\n",
    "class kMeans():\n",
    "    def __init__(self, seeds, tweets):\n",
    "        self.seeds = seeds\n",
    "        self.tweets = tweets\n",
    "        self.max_iterations = 10\n",
    "        self.k = len(seeds)\n",
    "\n",
    "        self.clusters = {} # cluster to tweetID\n",
    "        self.rev_clusters = {} # reverse index, tweetID to cluster\n",
    "        self.jaccardMatrix = {} # stores pairwise jaccard distance in a matrix\n",
    "\n",
    "        self.initializeClusters()\n",
    "        self.initializeMatrix()\n",
    "\n",
    "    def jaccardDistance(self, setA, setB):\n",
    "        # Calcualtes the Jaccard Distance of two sets\n",
    "        try:\n",
    "            return 1 - float(len(setA.intersection(setB))) / float(len(setA.union(setB)))\n",
    "        except TypeError:\n",
    "            print 'Invalid type. Type set expected.'\n",
    "\n",
    "    def bagOfWords(self, string):\n",
    "        # Returns a bag of words from a given string\n",
    "        # Space delimited, removes punctuation, lowercase\n",
    "        # Cleans text from url, stop words, tweet @, and 'rt'\n",
    "        words = string.lower().strip().split(' ')\n",
    "        for word in words:\n",
    "            word = word.rstrip().lstrip()\n",
    "            if not re.match(r'^https?:\\/\\/.*[\\r\\n]*', word) \\\n",
    "            and not re.match('^@.*', word) \\\n",
    "            and not re.match('\\s', word) \\\n",
    "            and word not in cachedStopWords \\\n",
    "            and word != 'rt' \\\n",
    "            and word != '':\n",
    "                yield regex.sub('', word)\n",
    "\n",
    "    def initializeMatrix(self):\n",
    "        # Dynamic Programming: creates matrix storing pairwise jaccard distances\n",
    "        for ID1 in self.tweets:\n",
    "            self.jaccardMatrix[ID1] = {}\n",
    "            bag1 = set(self.bagOfWords(self.tweets[ID1]['text']))\n",
    "            for ID2 in self.tweets:\n",
    "                if ID2 not in self.jaccardMatrix:\n",
    "                    self.jaccardMatrix[ID2] = {}\n",
    "                bag2 = set(self.bagOfWords(self.tweets[ID2]['text']))\n",
    "                distance = self.jaccardDistance(bag1, bag2)\n",
    "                self.jaccardMatrix[ID1][ID2] = distance\n",
    "                self.jaccardMatrix[ID2][ID1] = distance\n",
    "\n",
    "    def initializeClusters(self):\n",
    "        # Initialize tweets to no cluster\n",
    "        for ID in self.tweets:\n",
    "            self.rev_clusters[ID] = -1\n",
    "\n",
    "        # Initialize clusters with seeds\n",
    "        for k in range(self.k):\n",
    "            self.clusters[k] = set([self.seeds[k]])\n",
    "            self.rev_clusters[self.seeds[k]] = k\n",
    "\n",
    "    def calcNewClusters(self):\n",
    "        # Initialize new cluster\n",
    "        new_clusters = {}\n",
    "        new_rev_cluster = {}\n",
    "        for k in range(self.k):\n",
    "            new_clusters[k] = set()\n",
    "\n",
    "        for ID in self.tweets:\n",
    "            min_dist = float(\"inf\")\n",
    "            min_cluster = self.rev_clusters[ID]\n",
    "\n",
    "            # Calculate min average distance to each cluster\n",
    "            for k in self.clusters:\n",
    "                dist = 0\n",
    "                count = 0\n",
    "                for ID2 in self.clusters[k]:\n",
    "                    dist += self.jaccardMatrix[ID][ID2]\n",
    "                    count += 1\n",
    "                if count > 0:\n",
    "                    avg_dist = dist/float(count)\n",
    "                    if min_dist > avg_dist:\n",
    "                        min_dist = avg_dist\n",
    "                        min_cluster = k\n",
    "            new_clusters[min_cluster].add(ID)\n",
    "            new_rev_cluster[ID] = min_cluster\n",
    "        return new_clusters, new_rev_cluster\n",
    "\n",
    "    def converge(self):\n",
    "        # Initialize previous cluster to compare changes with new clustering\n",
    "        new_clusters, new_rev_clusters = self.calcNewClusters()\n",
    "        self.clusters = copy.deepcopy(new_clusters)\n",
    "        self.rev_clusters = copy.deepcopy(new_rev_clusters)\n",
    "\n",
    "        # Converges until old and new iterations are the same\n",
    "        iterations = 1\n",
    "        while iterations < self.max_iterations:\n",
    "            new_clusters, new_rev_clusters = self.calcNewClusters()\n",
    "            iterations += 1\n",
    "            if self.rev_clusters != new_rev_clusters:\n",
    "                self.clusters = copy.deepcopy(new_clusters)\n",
    "                self.rev_clusters = copy.deepcopy(new_rev_clusters)\n",
    "            else:\n",
    "                #print iterations\n",
    "                return\n",
    "            \n",
    "    \n",
    "    def printClusterText(self):\n",
    "        # Prints text of clusters\n",
    "        for k in self.clusters:\n",
    "            for ID in self.clusters[k]:\n",
    "                print self.tweets[ID]['text']\n",
    "            print '\\n'\n",
    " \n",
    "    def printClusters(self):\n",
    "        # Prints cluster ID and tweet IDs for that cluster\n",
    "        for k in self.clusters:\n",
    "            print str(k) + ':' + ','.join(map(str,self.clusters[k]))\n",
    "\n",
    "    def printMatrix(self):\n",
    "        # Prints jaccard distance matrix\n",
    "        for ID in self.tweets:\n",
    "            for ID2 in self.tweets:\n",
    "                print ID, ID2, self.jaccardMatrix[ID][ID2]\n",
    "\n",
    "def main():\n",
    "    if len(sys.argv) != 3:\n",
    "        print >> sys.stderr, 'Usage: %s [json file] [seeds file]' % (sys.argv[0])\n",
    "        exit(-1)\n",
    "    \n",
    "    tweets = {}\n",
    "    with open(sys.argv[1], 'r') as f:\n",
    "        for line in f:\n",
    "            tweet = json.loads(line)\n",
    "            tweets[tweet['id']] = tweet\n",
    "    \n",
    "    f = open(sys.argv[2])\n",
    "    seeds = [int(line.rstrip(',\\n')) for line in f.readlines()]\n",
    "    f.close()\n",
    "\n",
    "    kmeans = kMeans(seeds, tweets)\n",
    "    kmeans.converge()\n",
    "    #kmeans.printClusterText()\n",
    "    kmeans.printClusters()\n",
    "    \n",
    "\n",
    "if __name__ == '__main__':\n",
    "    main()"
   ]
  },
  {
   "cell_type": "code",
   "execution_count": null,
   "metadata": {},
   "outputs": [],
   "source": [
    "import sys\n",
    "import json\n",
    "import re, string\n",
    "import copy\n",
    "from nltk.corpus import stopwords\n",
    "\n",
    "regex = re.compile('[%s]' % re.escape(string.punctuation))\n",
    "cachedStopWords = stopwords.words('english')\n",
    "\n",
    "class kMeans():\n",
    "    def __init__(self, seeds, tweets):\n",
    "        self.seeds = seeds\n",
    "        self.tweets = tweets\n",
    "        self.max_iterations = 10\n",
    "        self.k = len(seeds)\n",
    "\n",
    "        self.clusters = {} # cluster to tweetID\n",
    "        self.rev_clusters = {} # reverse index, tweetID to cluster\n",
    "        self.jaccardMatrix = {} # stores pairwise jaccard distance in a matrix\n",
    "\n",
    "        self.initializeClusters()\n",
    "        self.initializeMatrix()\n",
    "\n",
    "    \n",
    "    def intersection(tweetdata_one, tweetdata_two): #function count intersection between two words\n",
    "    result_intesection = 0\n",
    "    for word in tweetdata_one:\n",
    "        while tweetdata_one[word] != 0 and word in tweetdata_two:\n",
    "            if word in tweetdata_two:\n",
    "                tweetdata_two[word] = tweetdata_two[word] - 1\n",
    "                tweetdata_one[word] = tweetdata_one[word] - 1\n",
    "                if tweetdata_two[word] == 0:\n",
    "                    tweetdata_two.pop(word, None)\n",
    "                result_intesection += 1\n",
    "    return result_intesection\n",
    "\n",
    "    def union(tweetdata_one, tweetdata_two): #function count union of two words\n",
    "    result_union = 0\n",
    "    for word in tweetdata_one:\n",
    "        if word in tweetdata_two:\n",
    "            result_union = result_union + max(tweetdata_one[word], tweetdata_two[word])\n",
    "            tweetdata_two.pop(word, None)\n",
    "        else:\n",
    "            result_union = result_union + tweetdata_one[word]\n",
    "    for word in tweetdata_two:\n",
    "        result_union = result_union + tweetdata_two[word]\n",
    "    return result_union\n"
   ]
  },
  {
   "cell_type": "code",
   "execution_count": null,
   "metadata": {},
   "outputs": [],
   "source": [
    "import sys\n",
    "import json\n",
    "import re, string\n",
    "import copy\n",
    "from nltk.corpus import stopwords\n",
    "\n",
    "regex = re.compile('[%s]' % re.escape(string.punctuation))\n",
    "cachedStopWords = stopwords.words('english')\n",
    "\n",
    "class kMeans():\n",
    "    def __init__(self, seeds, tweets):\n",
    "        self.seeds = seeds\n",
    "        self.tweets = tweets\n",
    "        self.max_iterations = 30\n",
    "        self.k = len(seeds)\n",
    "\n",
    "        self.clusters = {} # cluster for tweet text\n",
    "        self.rev_clusters = {} # reverse index, tweetID to cluster\n",
    "        self.jaccardMatrix = {} # stores pairwise jaccard distance in a matrix\n",
    "\n",
    "        self.initializeClusters()\n",
    "        self.initializeMatrix()\n",
    "\n",
    "    def jaccardDistance(self, setA, setB):\n",
    "        # Calcualtes the Jaccard Distance of two sets\n",
    "        try:\n",
    "            return 1 - float(len(setA.intersection(setB))) / float(len(setA.union(setB)))\n",
    "        except TypeError:\n",
    "            print ('Invalid type. Type set expected.')\n",
    "\n",
    "    def bagOfWords(self, string):\n",
    "        # Returns a bag of words from a given string\n",
    "        # Space delimited, removes punctuation, lowercase\n",
    "        # Cleans text from url, stop words, tweet @, and 'rt'\n",
    "        words = string.lower().strip().split(' ')\n",
    "        for word in words:\n",
    "            word = word.rstrip().lstrip()\n",
    "            if not re.match(r'^https?:\\/\\/.*[\\r\\n]*', word) \\\n",
    "            and not re.match('^@.*', word) \\\n",
    "            and not re.match('\\s', word) \\\n",
    "            and word not in cachedStopWords \\\n",
    "            and word != 'rt' \\\n",
    "            and word != '':\n",
    "                yield regex.sub('', word)\n",
    "\n",
    "    def initializeMatrix(self):\n",
    "        # Dynamic Programming: creates matrix storing pairwise jaccard distances\n",
    "        for text1 in self.tweets:\n",
    "            self.jaccardMatrix[text1] = {}\n",
    "            bag1 = set(self.bagOfWords(self.tweets[tex1]['text']))\n",
    "            for ID2 in self.tweets:\n",
    "                if ID2 not in self.jaccardMatrix:\n",
    "                    self.jaccardMatrix[ID2] = {}\n",
    "                bag2 = set(self.bagOfWords(self.tweets[ID2]['text']))\n",
    "                distance = self.jaccardDistance(bag1, bag2)\n",
    "                self.jaccardMatrix[ID1][ID2] = distance\n",
    "                self.jaccardMatrix[ID2][ID1] = distance\n",
    "\n",
    "    def initializeClusters(self):\n",
    "        # Initialize tweets to no cluster\n",
    "        for ID in self.tweets:\n",
    "            self.rev_clusters[ID] = -1\n",
    "\n",
    "        # Initialize clusters with seeds\n",
    "        for k in range(self.k):\n",
    "            self.clusters[k] = set([self.seeds[k]])\n",
    "            self.rev_clusters[self.seeds[k]] = k\n",
    "\n",
    "    def calcNewClusters(self):\n",
    "        # Initialize new cluster\n",
    "        new_clusters = {}\n",
    "        new_rev_cluster = {}\n",
    "        for k in range(self.k):\n",
    "            new_clusters[k] = set()\n",
    "\n",
    "        for ID in self.tweets:\n",
    "            min_dist = float(\"inf\")\n",
    "            min_cluster = self.rev_clusters[ID]\n",
    "\n",
    "            # Calculate min average distance to each cluster\n",
    "            for k in self.clusters:\n",
    "                dist = 0\n",
    "                count = 0\n",
    "                for ID2 in self.clusters[k]:\n",
    "                    dist += self.jaccardMatrix[ID][ID2]\n",
    "                    count += 1\n",
    "                if count > 0:\n",
    "                    avg_dist = dist/float(count)\n",
    "                    if min_dist > avg_dist:\n",
    "                        min_dist = avg_dist\n",
    "                        min_cluster = k\n",
    "            new_clusters[min_cluster].add(ID)\n",
    "            new_rev_cluster[ID] = min_cluster\n",
    "        return new_clusters, new_rev_cluster\n",
    "\n",
    "    def converge(self):\n",
    "        # Initialize previous cluster to compare changes with new clustering\n",
    "        new_clusters, new_rev_clusters = self.calcNewClusters()\n",
    "        self.clusters = copy.deepcopy(new_clusters)\n",
    "        self.rev_clusters = copy.deepcopy(new_rev_clusters)\n",
    "\n",
    "        # Converges until old and new iterations are the same\n",
    "        iterations = 1\n",
    "        while iterations < self.max_iterations:\n",
    "            new_clusters, new_rev_clusters = self.calcNewClusters()\n",
    "            iterations += 1\n",
    "            if self.rev_clusters != new_rev_clusters:\n",
    "                self.clusters = copy.deepcopy(new_clusters)\n",
    "                self.rev_clusters = copy.deepcopy(new_rev_clusters)\n",
    "            else:\n",
    "                #print iterations\n",
    "                return\n",
    "            \n",
    "    \n",
    "    def printClusterText(self):\n",
    "        # Prints text of clusters\n",
    "        for k in self.clusters:\n",
    "            for ID in self.clusters[k]:\n",
    "                print self.tweets[ID]['text']\n",
    "            print '\\n'\n",
    " \n",
    "    def printClusters(self):\n",
    "        # Prints cluster ID and tweet IDs for that cluster\n",
    "        for k in self.clusters:\n",
    "            print str(k) + ':' + ','.join(map(str,self.clusters[k]))\n",
    "\n",
    "    def printMatrix(self):\n",
    "        # Prints jaccard distance matrix\n",
    "        for ID in self.tweets:\n",
    "            for ID2 in self.tweets:\n",
    "                print ID, ID2, self.jaccardMatrix[ID][ID2]\n",
    "\n",
    "def main():\n",
    "    if len(sys.argv) != 3:\n",
    "        print >> sys.stderr, 'Usage: %s [json file] [seeds file]' % (sys.argv[0])\n",
    "        exit(-1)\n",
    "    \n",
    "    tweets = {}\n",
    "    with open(sys.argv[1], 'r') as f:\n",
    "        for line in f:\n",
    "            tweet = json.loads(line)\n",
    "            tweets[tweet['id']] = tweet\n",
    "    \n",
    "    f = open(sys.argv[2])\n",
    "    seeds = [int(line.rstrip(',\\n')) for line in f.readlines()]\n",
    "    f.close()\n",
    "\n",
    "    kmeans = kMeans(seeds, tweets)\n",
    "    kmeans.converge()\n",
    "    kmeans.printClusterText()\n",
    "    kmeans.printClusters()\n",
    "    \n",
    "\n",
    "if __name__ == '__main__':\n",
    "    main()"
   ]
  },
  {
   "cell_type": "code",
   "execution_count": 52,
   "metadata": {},
   "outputs": [
    {
     "data": {
      "text/plain": [
       "3"
      ]
     },
     "execution_count": 52,
     "metadata": {},
     "output_type": "execute_result"
    }
   ],
   "source": [
    "import nltk\n",
    "\n",
    "w1 = 'mappingsttr'\n",
    "w2 = 'mappings'\n",
    "\n",
    "nltk.edit_distance(w1, w2)"
   ]
  },
  {
   "cell_type": "code",
   "execution_count": 87,
   "metadata": {},
   "outputs": [],
   "source": [
    "def identity_tokenizer(text):\n",
    "    return text\n",
    "vect = TfidfVectorizer(tokenizer=identity_tokenizer,lowercase=False)\n",
    "x = vect.fit_transform(tweets.lemma.values)\n",
    "        "
   ]
  },
  {
   "cell_type": "code",
   "execution_count": 102,
   "metadata": {},
   "outputs": [
    {
     "data": {
      "text/plain": [
       "['ⓗⓐ',\n",
       " 'networ',\n",
       " 'nerdcant',\n",
       " 'nervewrack',\n",
       " 'nestl',\n",
       " 'netmatico',\n",
       " 'netting.diego',\n",
       " 'netwo',\n",
       " 'networkservic',\n",
       " 'neutral',\n",
       " 'neurip',\n",
       " 'neuro',\n",
       " 'neurologist',\n",
       " 'neurosci',\n",
       " 'neurosurgeo',\n",
       " 'neurotox',\n",
       " 'nerd',\n",
       " 'neptun',\n",
       " \"nephew'\",\n",
       " 'nepal',\n",
       " 'neonazi',\n",
       " 'neonat',\n",
       " 'neon',\n",
       " 'neomarx',\n",
       " 'neog',\n",
       " 'neo',\n",
       " 'nelson',\n",
       " 'nellen',\n",
       " 'neill',\n",
       " 'neilallen',\n",
       " 'neighbour',\n",
       " \"negvac'\",\n",
       " 'negati',\n",
       " 'neurotoxin',\n",
       " 'nevi',\n",
       " 'neek',\n",
       " 'ngam',\n",
       " 'nexigo',\n",
       " 'nextgen',\n",
       " 'nextlab',\n",
       " 'nexu',\n",
       " 'nffn',\n",
       " 'nfu',\n",
       " 'ngl',\n",
       " 'newark',\n",
       " 'ngold',\n",
       " 'ngonian',\n",
       " 'nhgopcoronacaucu',\n",
       " 'nhifdoctorshealth',\n",
       " 'nhl']"
      ]
     },
     "execution_count": 102,
     "metadata": {},
     "output_type": "execute_result"
    }
   ],
   "source": [
    "indices = np.argsort(vect.idf_)[::-1]\n",
    "features = vect.get_feature_names()\n",
    "top_n = 50\n",
    "top_features = [features[i] for i in indices[:top_n]]\n",
    "top_features\n"
   ]
  },
  {
   "cell_type": "code",
   "execution_count": 89,
   "metadata": {},
   "outputs": [
    {
     "data": {
      "text/plain": [
       "KMeans(algorithm='auto', copy_x=True, init='k-means++', max_iter=100,\n",
       "       n_clusters=20, n_init=1, n_jobs=None, precompute_distances='auto',\n",
       "       random_state=None, tol=0.0001, verbose=0)"
      ]
     },
     "execution_count": 89,
     "metadata": {},
     "output_type": "execute_result"
    }
   ],
   "source": [
    "from sklearn.cluster import KMeans\n",
    "model = KMeans(n_clusters=20, init='k-means++', max_iter=100, n_init=1)\n",
    "model.fit(x)"
   ]
  },
  {
   "cell_type": "code",
   "execution_count": 103,
   "metadata": {},
   "outputs": [
    {
     "name": "stdout",
     "output_type": "stream",
     "text": [
      "Top terms per cluster:\n",
      "Cluster 0:\n",
      " one\n",
      " /\n",
      " .\n",
      " …\n",
      " busi\n",
      " health\n",
      " love\n",
      " ...\n",
      " best\n",
      " ’\n",
      "Cluster 1:\n",
      " like\n",
      " /\n",
      " .\n",
      " …\n",
      " busi\n",
      " look\n",
      " health\n",
      " ’\n",
      " get\n",
      " i\n",
      "Cluster 2:\n",
      " ’\n",
      " s\n",
      " it\n",
      " /\n",
      " .\n",
      " i\n",
      " …\n",
      " m\n",
      " busi\n",
      " that\n",
      "Cluster 3:\n",
      " )\n",
      " (\n",
      " /\n",
      " …\n",
      " busi\n",
      " .\n",
      " health\n",
      " not\n",
      " free\n",
      " dm\n",
      "Cluster 4:\n",
      " mental\n",
      " health\n",
      " /\n",
      " .\n",
      " …\n",
      " ’\n",
      " take\n",
      " physic\n",
      " good\n",
      " care\n",
      "Cluster 5:\n",
      " health\n",
      " /\n",
      " …\n",
      " care\n",
      " .\n",
      " public\n",
      " good\n",
      " depart\n",
      " team\n",
      " biden\n",
      "Cluster 6:\n",
      " \"\n",
      " /\n",
      " …\n",
      " .\n",
      " busi\n",
      " health\n",
      " the\n",
      " say\n",
      " ?\n",
      " like\n",
      "Cluster 7:\n",
      " '\n",
      " /\n",
      " …\n",
      " .\n",
      " s\n",
      " health\n",
      " busi\n",
      " heir\n",
      " rover\n",
      " opt\n",
      "Cluster 8:\n",
      " /\n",
      " …\n",
      " busi\n",
      " .\n",
      " sport\n",
      " get\n",
      " make\n",
      " peopl\n",
      " new\n",
      " us\n",
      "Cluster 9:\n",
      " busi\n",
      " …\n",
      " sport\n",
      " .\n",
      " get\n",
      " love\n",
      " go\n",
      " great\n",
      " good\n",
      " need\n",
      "Cluster 10:\n",
      " t\n",
      " ’\n",
      " don\n",
      " /\n",
      " .\n",
      " busi\n",
      " can\n",
      " …\n",
      " y\n",
      " all\n",
      "Cluster 11:\n",
      " say\n",
      " /\n",
      " …\n",
      " .\n",
      " busi\n",
      " health\n",
      " ’\n",
      " “\n",
      " sport\n",
      " peopl\n",
      "Cluster 12:\n",
      " small\n",
      " busi\n",
      " /\n",
      " own\n",
      " black\n",
      " …\n",
      " owner\n",
      " .\n",
      " t.co/mo5r6ckzu5\n",
      " hey\n",
      "Cluster 13:\n",
      " vaccin\n",
      " /\n",
      " covid\n",
      " 19\n",
      " …\n",
      " pfizer\n",
      " health\n",
      " .\n",
      " get\n",
      " first\n",
      "Cluster 14:\n",
      " psg\n",
      " istanbul\n",
      " basaksehir\n",
      " walk\n",
      " /\n",
      " player\n",
      " match\n",
      " racism\n",
      " pitch\n",
      " suspend\n",
      "Cluster 15:\n",
      " mind\n",
      " busi\n",
      " .\n",
      " /\n",
      " ’\n",
      " ya\n",
      " ur\n",
      " see\n",
      " pay\n",
      " yo\n",
      "Cluster 16:\n",
      " ...\n",
      " /\n",
      " busi\n",
      " …\n",
      " get\n",
      " sport\n",
      " .\n",
      " ’\n",
      " health\n",
      " good\n",
      "Cluster 17:\n",
      " .\n",
      " /\n",
      " busi\n",
      " …\n",
      " sport\n",
      " peopl\n",
      " health\n",
      " good\n",
      " u\n",
      " need\n",
      "Cluster 18:\n",
      " 19\n",
      " covid\n",
      " /\n",
      " health\n",
      " …\n",
      " .\n",
      " case\n",
      " corona\n",
      " viru\n",
      " statist\n",
      "Cluster 19:\n",
      " ?\n",
      " /\n",
      " busi\n",
      " …\n",
      " .\n",
      " health\n",
      " get\n",
      " know\n",
      " want\n",
      " would\n"
     ]
    }
   ],
   "source": [
    "print(\"Top terms per cluster:\")\n",
    "order_centroids = model.cluster_centers_.argsort()[:, ::-1]\n",
    "terms = vect.get_feature_names()\n",
    "for i in range(20):\n",
    "    print (\"Cluster %d:\" % i,)\n",
    "    for ind in order_centroids[i, :10]:\n",
    "        print (' %s' % terms[ind],)\n",
    "    "
   ]
  },
  {
   "cell_type": "markdown",
   "metadata": {},
   "source": [
    "<B> References </B>\n",
    "\n",
    "https://www.datacamp.com/community/tutorials/stemming-lemmatization-python</br>\n",
    "https://datascienceplus.com/twitter-analysis-with-python/</br>\n",
    "https://berkeley-stat159-f17.github.io/stat159-f17/lectures/11-strings/11-nltk..html</br>\n",
    "https://www.xspdf.com/resolution/52940753.html</br>\n",
    "https://medium.com/analytics-vidhya/exploring-twitter-data-using-python-af1287ee65f1</br>\n",
    "https://towardsdatascience.com/kmeans-clustering-for-classification-74b992405d0a\n",
    "https://www.xspdf.com/resolution/55501459.html"
   ]
  },
  {
   "cell_type": "markdown",
   "metadata": {},
   "source": [
    "<B>Annex</B>"
   ]
  },
  {
   "cell_type": "code",
   "execution_count": 2,
   "metadata": {},
   "outputs": [
    {
     "name": "stdout",
     "output_type": "stream",
     "text": [
      "Collecting watermark\n",
      "  Downloading watermark-2.1.0-py2.py3-none-any.whl (5.7 kB)\n",
      "Requirement already satisfied: ipython in c:\\users\\user\\anaconda3\\lib\\site-packages (from watermark) (7.16.1)\n",
      "Requirement already satisfied: colorama; sys_platform == \"win32\" in c:\\users\\user\\anaconda3\\lib\\site-packages (from ipython->watermark) (0.4.3)\n",
      "Requirement already satisfied: backcall in c:\\users\\user\\anaconda3\\lib\\site-packages (from ipython->watermark) (0.2.0)\n",
      "Requirement already satisfied: prompt-toolkit!=3.0.0,!=3.0.1,<3.1.0,>=2.0.0 in c:\\users\\user\\anaconda3\\lib\\site-packages (from ipython->watermark) (3.0.5)\n",
      "Requirement already satisfied: decorator in c:\\users\\user\\anaconda3\\lib\\site-packages (from ipython->watermark) (4.4.2)\n",
      "Requirement already satisfied: jedi>=0.10 in c:\\users\\user\\anaconda3\\lib\\site-packages (from ipython->watermark) (0.17.1)\n",
      "Requirement already satisfied: pygments in c:\\users\\user\\anaconda3\\lib\\site-packages (from ipython->watermark) (2.6.1)\n",
      "Requirement already satisfied: traitlets>=4.2 in c:\\users\\user\\anaconda3\\lib\\site-packages (from ipython->watermark) (4.3.3)\n",
      "Requirement already satisfied: pickleshare in c:\\users\\user\\anaconda3\\lib\\site-packages (from ipython->watermark) (0.7.5)\n",
      "Requirement already satisfied: setuptools>=18.5 in c:\\users\\user\\anaconda3\\lib\\site-packages (from ipython->watermark) (49.2.0.post20200714)\n",
      "Requirement already satisfied: wcwidth in c:\\users\\user\\anaconda3\\lib\\site-packages (from prompt-toolkit!=3.0.0,!=3.0.1,<3.1.0,>=2.0.0->ipython->watermark) (0.2.5)\n",
      "Requirement already satisfied: parso<0.8.0,>=0.7.0 in c:\\users\\user\\anaconda3\\lib\\site-packages (from jedi>=0.10->ipython->watermark) (0.7.0)\n",
      "Requirement already satisfied: six in c:\\users\\user\\anaconda3\\lib\\site-packages (from traitlets>=4.2->ipython->watermark) (1.15.0)\n",
      "Requirement already satisfied: ipython-genutils in c:\\users\\user\\anaconda3\\lib\\site-packages (from traitlets>=4.2->ipython->watermark) (0.2.0)\n",
      "Installing collected packages: watermark\n",
      "Successfully installed watermark-2.1.0\n",
      "Note: you may need to restart the kernel to use updated packages.\n"
     ]
    }
   ],
   "source": [
    "pip install watermark\n"
   ]
  },
  {
   "cell_type": "code",
   "execution_count": 3,
   "metadata": {},
   "outputs": [],
   "source": [
    "%load_ext watermark\n"
   ]
  },
  {
   "cell_type": "code",
   "execution_count": 4,
   "metadata": {},
   "outputs": [
    {
     "data": {
      "text/plain": [
       "\u001b[1;31mDocstring:\u001b[0m\n",
       "::\n",
       "\n",
       "  %watermark [-a AUTHOR] [-d] [-n] [-t] [-i] [-z] [-u] [-c CUSTOM_TIME] [-v] [-p PACKAGES] [-h] [-m] [-g] [-r]\n",
       "                 [-b] [-w] [-iv]\n",
       "\n",
       "IPython magic function to print date/time stamps\n",
       "and various system information.\n",
       "\n",
       "optional arguments:\n",
       "  -a AUTHOR, --author AUTHOR\n",
       "                        prints author name\n",
       "  -d, --date            prints current date as YYYY-mm-dd\n",
       "  -n, --datename        prints date with abbrv. day and month names\n",
       "  -t, --time            prints current time as HH-MM-SS\n",
       "  -i, --iso8601         prints the combined date and time including the time zone in the ISO 8601 standard with UTC\n",
       "                        offset\n",
       "  -z, --timezone        appends the local time zone\n",
       "  -u, --updated         appends a string \"Last updated: \"\n",
       "  -c CUSTOM_TIME, --custom_time CUSTOM_TIME\n",
       "                        prints a valid strftime() string\n",
       "  -v, --python          prints Python and IPython version\n",
       "  -p PACKAGES, --packages PACKAGES\n",
       "                        prints versions of specified Python modules and packages\n",
       "  -h, --hostname        prints the host name\n",
       "  -m, --machine         prints system and machine info\n",
       "  -g, --githash         prints current Git commit hash\n",
       "  -r, --gitrepo         prints current Git remote address\n",
       "  -b, --gitbranch       prints current Git branch\n",
       "  -w, --watermark       prints the current version of watermark\n",
       "  -iv, --iversions      prints the name/version of all imported modules\n",
       "\u001b[1;31mFile:\u001b[0m      c:\\users\\user\\anaconda3\\lib\\site-packages\\watermark\\watermark.py\n"
      ]
     },
     "metadata": {},
     "output_type": "display_data"
    }
   ],
   "source": [
    "%watermark?\n",
    "\n"
   ]
  },
  {
   "cell_type": "code",
   "execution_count": 6,
   "metadata": {},
   "outputs": [
    {
     "name": "stdout",
     "output_type": "stream",
     "text": [
      "Python implementation: CPython\n",
      "Python version       : 3.8.3\n",
      "IPython version      : 7.16.1\n",
      "\n",
      "pandas : 1.0.5\n",
      "numpy  : 1.18.5\n",
      "plt    : not installed\n",
      "kmeans : not installed\n",
      "counter: not installed\n",
      "\n",
      "Compiler    : MSC v.1916 64 bit (AMD64)\n",
      "OS          : Windows\n",
      "Release     : 10\n",
      "Machine     : AMD64\n",
      "Processor   : Intel64 Family 6 Model 142 Stepping 12, GenuineIntel\n",
      "CPU cores   : 8\n",
      "Architecture: 64bit\n",
      "\n"
     ]
    }
   ],
   "source": [
    "%watermark -v -m -p  pandas,numpy,plt,kmeans,counter"
   ]
  },
  {
   "cell_type": "code",
   "execution_count": 7,
   "metadata": {},
   "outputs": [
    {
     "name": "stdout",
     "output_type": "stream",
     "text": [
      "Python implementation: CPython\n",
      "Python version       : 3.8.3\n",
      "IPython version      : 7.16.1\n",
      "\n",
      "TfidfVectorizer  : not installed\n",
      "CountVectorizer  : not installed\n",
      "text             : not installed\n",
      "KMeansClusterer  : not installed\n",
      "cosine_similarity: not installed\n",
      "TruncatedSVD     : not installed\n",
      "datetime         : unknown\n",
      "nltk             : 3.5\n",
      "PCA              : not installed\n",
      "pd               : not installed\n",
      "np               : not installed\n",
      "\n",
      "Compiler    : MSC v.1916 64 bit (AMD64)\n",
      "OS          : Windows\n",
      "Release     : 10\n",
      "Machine     : AMD64\n",
      "Processor   : Intel64 Family 6 Model 142 Stepping 12, GenuineIntel\n",
      "CPU cores   : 8\n",
      "Architecture: 64bit\n",
      "\n"
     ]
    }
   ],
   "source": [
    "%watermark -v -m -p TfidfVectorizer,CountVectorizer,text,KMeansClusterer,cosine_similarity,TruncatedSVD,datetime,nltk,PCA,pd,np\n",
    "\n"
   ]
  },
  {
   "cell_type": "code",
   "execution_count": 11,
   "metadata": {},
   "outputs": [
    {
     "name": "stdout",
     "output_type": "stream",
     "text": [
      "Python implementation: CPython\n",
      "Python version       : 3.8.3\n",
      "IPython version      : 7.16.1\n",
      "\n",
      "display: not installed\n",
      "seaborn: 0.10.1\n",
      "\n",
      "Compiler    : MSC v.1916 64 bit (AMD64)\n",
      "OS          : Windows\n",
      "Release     : 10\n",
      "Machine     : AMD64\n",
      "Processor   : Intel64 Family 6 Model 142 Stepping 12, GenuineIntel\n",
      "CPU cores   : 8\n",
      "Architecture: 64bit\n",
      "\n"
     ]
    }
   ],
   "source": [
    "%watermark -v -m -p  display,seaborn "
   ]
  }
 ],
 "metadata": {
  "kernelspec": {
   "display_name": "Python 3",
   "language": "python",
   "name": "python3"
  },
  "language_info": {
   "codemirror_mode": {
    "name": "ipython",
    "version": 3
   },
   "file_extension": ".py",
   "mimetype": "text/x-python",
   "name": "python",
   "nbconvert_exporter": "python",
   "pygments_lexer": "ipython3",
   "version": "3.8.3"
  }
 },
 "nbformat": 4,
 "nbformat_minor": 4
}
